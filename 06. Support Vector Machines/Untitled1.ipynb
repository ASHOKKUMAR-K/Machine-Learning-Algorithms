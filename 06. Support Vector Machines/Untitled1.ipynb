{
 "cells": [
  {
   "cell_type": "code",
   "execution_count": 4,
   "metadata": {},
   "outputs": [],
   "source": [
    "import matplotlib.pyplot as plt\n",
    "from matplotlib import style\n",
    "import numpy as np\n",
    "\n",
    "style.use('ggplot')"
   ]
  },
  {
   "cell_type": "code",
   "execution_count": 12,
   "metadata": {},
   "outputs": [],
   "source": [
    "class Support_Vector_Machine:\n",
    "    def __init__(self, visualization=True):\n",
    "        self.visualization = visualization\n",
    "        self.colors = {1: 'r', -1: 'b'}\n",
    "        if self.visualization:\n",
    "            self.fig = plt.figure(figsize=(14, 7))\n",
    "            self.ax = self.fig.add_subplot(1, 1, 1)\n",
    "\n",
    "    def fit(self, data):\n",
    "        self.data = data\n",
    "        opt_dict = {}\n",
    "        \n",
    "        transforms = [[1, 1], [-1, -1], [-1, -1], [1, -1]]\n",
    "        \n",
    "        all_data = []\n",
    "        for yi in self.data:\n",
    "            for featureset in self.data[yi]:\n",
    "                for feature in featureset:\n",
    "                    all_data.append(feature)\n",
    "        self.min_feature_value = min(all_data)\n",
    "        self.max_feature_value = max(all_data)\n",
    "        all_data = None\n",
    "        \n",
    "        step_sizes =[self.max_feature_value * 0.1, \n",
    "                     self.max_feature_value * 0.01, \n",
    "                     self.max_feature_value * 0.001, \n",
    "                     self.max_feature_value * 0.0001]\n",
    "        \n",
    "        b_range_multiple = 5\n",
    "        b_multiple = 5\n",
    "        latest_optimum = self.max_feature_value * 10\n",
    "        \n",
    "        for step in step_sizes:\n",
    "            w = np.array([latest_optimum, latest_optimum])\n",
    "            optimized = False\n",
    "            while not optimized:\n",
    "                for b in np.arange(-1*(self.max_feature_value * b_range_multiple), \n",
    "                                  self.max_feature_value * b_range_multiple,\n",
    "                                  step * b_multiple):\n",
    "                    for transformation in transforms:\n",
    "                        w_t = w * transformation\n",
    "                        found_option = True\n",
    "                        for i in self.data:\n",
    "                            for xi in self.data[i]:\n",
    "                                yi = i\n",
    "                                if not yi*(np.dot(w_t, xi) + b) >= 1:\n",
    "                                    found_option = False\n",
    "                                    break\n",
    "                        if found_option:\n",
    "                            opt_dict[np.linalg.norm(w_t)] = [w_t, b]\n",
    "                            \n",
    "                if w[0] < 0:\n",
    "                    optimized = True\n",
    "                    print('Optimized a step')\n",
    "                else:\n",
    "                    w = w - step\n",
    "            norms = sorted([n for n in opt_dict])\n",
    "            opt_choice = opt_dict[norms[0]]\n",
    "            self.w = opt_choice[0]\n",
    "            self.b = opt_choice[1]\n",
    "            latest_optimum = opt_choice[0][0] + step*2\n",
    "    \n",
    "    def predict(self, features):\n",
    "        classification = np.sign(np.dot(np.array(features), self.w) + self.b)\n",
    "        if classification != 0 and self.visualization:\n",
    "            self.ax.scatter(features[0], features[1], s = 200, marker = '*', c = self.colors(classification))\n",
    "        return classification\n",
    "    \n",
    "    def visualze(self):\n",
    "        [[self.ax.scatter(x[0],x[1], s = 100, color = self.colors[i]) for x in data_dict[i]] for i in data_dict]\n",
    "        \n",
    "        def hyperplane(x, w, b, v):\n",
    "            return (-w[0] * x - b + v) / w[1]\n",
    "        \n",
    "        datarange = (self.min_feature_value * 0.9, self.max_feature_value * 1.1)\n",
    "        hyp_x_min = datarange[0]\n",
    "        hyp_x_max = datarange[1]\n",
    "        \n",
    "        psv1 = hyperplane(hyp_x_min, self.w, self.b, 1)\n",
    "        psv2 = hyperplane(hyp_x_max, self.w, self.b, 1)        \n",
    "        self.ax.plot([hyp_x_min, hyp_x_max], [psv1, psv2])\n",
    "        \n",
    "        \n",
    "        nsv1 = hyperplane(hyp_x_min, self.w, self.b, -1)\n",
    "        nsv2 = hyperplane(hyp_x_max, self.w, self.b, -1)        \n",
    "        self.ax.plot([hyp_x_min, hyp_x_max], [nsv1, nsv2])\n",
    "        \n",
    "        \n",
    "        db1 = hyperplane(hyp_x_min, self.w, self.b, 0)\n",
    "        db2 = hyperplane(hyp_x_max, self.w, self.b, 0)        \n",
    "        self.ax.plot([hyp_x_min, hyp_x_max], [db1, db2])\n",
    "        \n",
    "        plt.show()"
   ]
  },
  {
   "cell_type": "code",
   "execution_count": 13,
   "metadata": {},
   "outputs": [],
   "source": [
    "data_dict = {\n",
    "    -1: [[1, 7], [2, 8], [3, 8]],\n",
    "    1 : [[5, 1], [6, -1], [7, 3]]\n",
    "}"
   ]
  },
  {
   "cell_type": "code",
   "execution_count": 14,
   "metadata": {},
   "outputs": [
    {
     "name": "stdout",
     "output_type": "stream",
     "text": [
      "Optimized a step\n",
      "Optimized a step\n",
      "Optimized a step\n"
     ]
    },
    {
     "ename": "KeyboardInterrupt",
     "evalue": "",
     "output_type": "error",
     "traceback": [
      "\u001b[0;31m---------------------------------------------------------------------------\u001b[0m",
      "\u001b[0;31mKeyboardInterrupt\u001b[0m                         Traceback (most recent call last)",
      "\u001b[0;32m<ipython-input-14-a55e222a6471>\u001b[0m in \u001b[0;36m<module>\u001b[0;34m\u001b[0m\n\u001b[1;32m      1\u001b[0m \u001b[0msvm\u001b[0m \u001b[0;34m=\u001b[0m \u001b[0mSupport_Vector_Machine\u001b[0m\u001b[0;34m(\u001b[0m\u001b[0;34m)\u001b[0m\u001b[0;34m\u001b[0m\u001b[0;34m\u001b[0m\u001b[0m\n\u001b[0;32m----> 2\u001b[0;31m \u001b[0msvm\u001b[0m\u001b[0;34m.\u001b[0m\u001b[0mfit\u001b[0m\u001b[0;34m(\u001b[0m\u001b[0mdata\u001b[0m \u001b[0;34m=\u001b[0m \u001b[0mdata_dict\u001b[0m\u001b[0;34m)\u001b[0m\u001b[0;34m\u001b[0m\u001b[0;34m\u001b[0m\u001b[0m\n\u001b[0m\u001b[1;32m      3\u001b[0m \u001b[0msvm\u001b[0m\u001b[0;34m.\u001b[0m\u001b[0mvisualize\u001b[0m\u001b[0;34m(\u001b[0m\u001b[0;34m)\u001b[0m\u001b[0;34m\u001b[0m\u001b[0;34m\u001b[0m\u001b[0m\n",
      "\u001b[0;32m<ipython-input-12-b2c3527b0439>\u001b[0m in \u001b[0;36mfit\u001b[0;34m(self, data)\u001b[0m\n\u001b[1;32m     44\u001b[0m                             \u001b[0;32mfor\u001b[0m \u001b[0mxi\u001b[0m \u001b[0;32min\u001b[0m \u001b[0mself\u001b[0m\u001b[0;34m.\u001b[0m\u001b[0mdata\u001b[0m\u001b[0;34m[\u001b[0m\u001b[0mi\u001b[0m\u001b[0;34m]\u001b[0m\u001b[0;34m:\u001b[0m\u001b[0;34m\u001b[0m\u001b[0;34m\u001b[0m\u001b[0m\n\u001b[1;32m     45\u001b[0m                                 \u001b[0myi\u001b[0m \u001b[0;34m=\u001b[0m \u001b[0mi\u001b[0m\u001b[0;34m\u001b[0m\u001b[0;34m\u001b[0m\u001b[0m\n\u001b[0;32m---> 46\u001b[0;31m                                 \u001b[0;32mif\u001b[0m \u001b[0;32mnot\u001b[0m \u001b[0myi\u001b[0m\u001b[0;34m*\u001b[0m\u001b[0;34m(\u001b[0m\u001b[0mnp\u001b[0m\u001b[0;34m.\u001b[0m\u001b[0mdot\u001b[0m\u001b[0;34m(\u001b[0m\u001b[0mw_t\u001b[0m\u001b[0;34m,\u001b[0m \u001b[0mxi\u001b[0m\u001b[0;34m)\u001b[0m \u001b[0;34m+\u001b[0m \u001b[0mb\u001b[0m\u001b[0;34m)\u001b[0m \u001b[0;34m>=\u001b[0m \u001b[0;36m1\u001b[0m\u001b[0;34m:\u001b[0m\u001b[0;34m\u001b[0m\u001b[0;34m\u001b[0m\u001b[0m\n\u001b[0m\u001b[1;32m     47\u001b[0m                                     \u001b[0mfound_option\u001b[0m \u001b[0;34m=\u001b[0m \u001b[0;32mFalse\u001b[0m\u001b[0;34m\u001b[0m\u001b[0;34m\u001b[0m\u001b[0m\n\u001b[1;32m     48\u001b[0m                                     \u001b[0;32mbreak\u001b[0m\u001b[0;34m\u001b[0m\u001b[0;34m\u001b[0m\u001b[0m\n",
      "\u001b[0;31mKeyboardInterrupt\u001b[0m: "
     ]
    },
    {
     "data": {
      "image/png": "[encoded data removed]",
      "text/plain": [
       "<Figure size 1008x504 with 1 Axes>"
      ]
     },
     "metadata": {},
     "output_type": "display_data"
    }
   ],
   "source": [
    "svm = Support_Vector_Machine()\n",
    "svm.fit(data = data_dict)\n",
    "svm.visualize()"
   ]
  },
  {
   "cell_type": "code",
   "execution_count": null,
   "metadata": {},
   "outputs": [],
   "source": []
  }
 ],
 "metadata": {
  "kernelspec": {
   "display_name": "Python 3",
   "language": "python",
   "name": "python3"
  },
  "language_info": {
   "codemirror_mode": {
    "name": "ipython",
    "version": 3
   },
   "file_extension": ".py",
   "mimetype": "text/x-python",
   "name": "python",
   "nbconvert_exporter": "python",
   "pygments_lexer": "ipython3",
   "version": "3.7.7"
  }
 },
 "nbformat": 4,
 "nbformat_minor": 4
}
