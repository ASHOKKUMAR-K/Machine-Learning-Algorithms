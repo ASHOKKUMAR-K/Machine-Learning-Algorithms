{
 "cells": [
  {
   "cell_type": "markdown",
   "metadata": {},
   "source": [
    "# Decision Tree Classifier"
   ]
  },
  {
   "cell_type": "markdown",
   "metadata": {},
   "source": [
    "## Let's build our Decision Tree"
   ]
  },
  {
   "cell_type": "code",
   "execution_count": 102,
   "metadata": {},
   "outputs": [],
   "source": [
    "# Importing Libraries\n",
    "import pandas as pd             # Pandas\n",
    "import numpy as np              # Numpy\n",
    "import matplotlib.pyplot as plt # Matplotlib.pyplot\n",
    "import seaborn as sb            # Seaborn\n",
    "sb.set()                        # Setting Seaborn style\n",
    "\n",
    "\n",
    "class Node:\n",
    "    ''' Creates a Node '''\n",
    "    def __init__(self, col_idx, Decision_Tree_Classifier_object):\n",
    "        self.col_idx = col_idx\n",
    "        self.column = Decision_Tree_Classifier_object.X[:, col_idx]\n",
    "        self.branches = np.unique(self.column)\n",
    "\n",
    "    def __str__(self):\n",
    "        return '{} ==> {}'.format(self.col_idx, self.branches)\n",
    "\n",
    "class Tree:\n",
    "    ''' Builds a Tree which splits its branches by making decisions '''\n",
    "    def __init__(self, Node_object):\n",
    "        ''' Initiates a Tree '''\n",
    "        self.root_node = Node_object\n",
    "\n",
    "class Decision_Tree:\n",
    "    ''' Creates Decisions '''\n",
    "    pass\n",
    "\n",
    "\n",
    "class Decision_Tree_Classifier:\n",
    "    ''' Defines Decision Tree used as a classifier '''\n",
    "    \n",
    "    def __init__(self, \n",
    "                 visualization = False, \n",
    "                 error_metrics = True):\n",
    "        \n",
    "        ''' Initalizes the Decision Tree '''\n",
    "        self.visualization = visualization\n",
    "        self.error_metrics = error_metrics\n",
    "        \n",
    "    def _validate_data(self, X, y):\n",
    "        \n",
    "        '''Validates Input Data'''\n",
    "        \n",
    "        # Checks Dimensions of Independent columns\n",
    "        if X.ndim != 2:\n",
    "            raise Exception('Independent column must have 2 Dimensions.\\\n",
    "                            Got dimension of {}'. format(X.ndim))\n",
    "        \n",
    "        # Checks Dimensions of Dependent columns\n",
    "        elif y.ndim != 1:\n",
    "            raise Exception('Dependent column must have 1 Dimensions.\\\n",
    "                            Got dimension of {}'. format(y.ndim))\n",
    "        \n",
    "        # Checks shape of Independent and Dependent columns\n",
    "        elif X.shape[0] != y.shape[0]:\n",
    "            raise Exception('Shape does no match.\\\n",
    "                            Got shape of {} and {}'.\n",
    "                            format(X.shape, y.shape))\n",
    "        else:\n",
    "            pass\n",
    "        \n",
    "    def _entropy(self, rows = 'all'):\n",
    "        ''' Computes Entropy '''\n",
    "        # Choosing Target based on condition\n",
    "        _data = self.y.ravel()\n",
    "        # Choosing rows\n",
    "        if rows != 'all':\n",
    "            _data = _data[rows]\n",
    "        \n",
    "        # Extracing unique data\n",
    "        _unique_data = np.unique(_data, return_counts = True)\n",
    "        \n",
    "        # Computing Entropy\n",
    "        _total = len(_data)\n",
    "        entropy = 0\n",
    "        for i in range(len(_unique_data[0])):\n",
    "            # Calculating Probability\n",
    "            _probability = _unique_data[1][i] / _total\n",
    "            entropy += (-1) * (_probability) * np.log2(_probability)\n",
    "        \n",
    "        return entropy\n",
    "    \n",
    "    def _select_node(self, columns):\n",
    "        ''' Selects Optimum Node '''\n",
    "        informations = []\n",
    "        gains = []\n",
    "        for i in columns:\n",
    "            uniques = np.unique(X[:, i].ravel(), return_counts = True)\n",
    "            sum_ = np.sum(uniques[1])\n",
    "            info = 0\n",
    "            j = 0\n",
    "            for unique in uniques[0]:\n",
    "                rows = np.where(X[:, i] == unique)\n",
    "                entropy = self._entropy(rows)\n",
    "                print(entropy, uniques[1][j], sum_)\n",
    "                info += (entropy * uniques[1][j]) / sum_\n",
    "                j += 1\n",
    "            gain = self._info_gain(info)\n",
    "            informations.append(info)\n",
    "            gains.append(gain)\n",
    "        print('INFO : ', informations)\n",
    "        print('GAIN : ', gains)\n",
    "            \n",
    "    \n",
    "    \n",
    "    def _info_gain(self, info):\n",
    "        ''' Returns information gain '''\n",
    "        return self.primary_entropy - info\n",
    "    \n",
    "    def fit(self, X, y):\n",
    "        ''' Fits Decision Tree '''\n",
    "        \n",
    "        # Validate the input data\n",
    "        self._validate_data(X, y)\n",
    "        \n",
    "        # Compute No. of records and No.of Features\n",
    "        self._m_records, self._n_features = X.shape\n",
    "        \n",
    "        # Intializing Independent and Dependent columns\n",
    "        self.X = X\n",
    "        self.y = y.reshape(-1, 1)\n",
    "        \n",
    "        # Compute Target classes\n",
    "        self._target_class = np.unique(y.ravel(), return_counts=True)\n",
    "        \n",
    "        \n",
    "        ''' Step 1: Compute the Entropy for the Dataset '''\n",
    "        self.primary_entropy = self._entropy()\n",
    "        print(self.primary_entropy)\n",
    "        \n",
    "        ''' Step 2: Initializing columns '''\n",
    "        columns = list(range(self._n_features))\n",
    "        root_node = self._select_node(columns = columns)\n",
    "        \n",
    "        \n",
    "    \n",
    "    def predict(self, X):\n",
    "        ''' Predicts Decision Tree Results '''\n",
    "        pass"
   ]
  },
  {
   "cell_type": "code",
   "execution_count": 103,
   "metadata": {},
   "outputs": [],
   "source": [
    "df = pd.DataFrame({\n",
    "    'OUTLOOK' : ['Rainy', 'Rainy', 'Overcast', 'Sunny', 'Sunny', 'Sunny', 'Overcast', 'Rainy', 'Rainy', 'Sunny', 'Rainy', 'Overcast', 'Overcast', 'Sunny'],\n",
    "    'TEMPERATURE' : ['Hot', 'Hot', 'Hot', 'Mild', 'Cool', 'Cool', 'Cool', 'Mild', 'Cool', 'Mild', 'Mild', 'Mild', 'Hot', 'Mild'],\n",
    "    'HUMIDITY' : ['High', 'High', 'High', 'High', 'Normal', 'Normal', 'Normal', 'High', 'Normal', 'Normal', 'Normal', 'High', 'Normal', 'High'],\n",
    "    'WINDY' : ['False', 'True', 'False', 'False', 'False', 'True', 'True', 'False', 'False', 'False', 'True', 'True', 'False', 'True'],\n",
    "    'PLAY GOLF': ['No', 'No', 'Yes', 'Yes', 'Yes', 'No', 'Yes', 'No', 'Yes', 'Yes', 'Yes', 'Yes', 'Yes', 'No']\n",
    "})\n"
   ]
  },
  {
   "cell_type": "code",
   "execution_count": 104,
   "metadata": {},
   "outputs": [
    {
     "data": {
      "text/html": [
       "<div>\n",
       "<style scoped>\n",
       "    .dataframe tbody tr th:only-of-type {\n",
       "        vertical-align: middle;\n",
       "    }\n",
       "\n",
       "    .dataframe tbody tr th {\n",
       "        vertical-align: top;\n",
       "    }\n",
       "\n",
       "    .dataframe thead th {\n",
       "        text-align: right;\n",
       "    }\n",
       "</style>\n",
       "<table border=\"1\" class=\"dataframe\">\n",
       "  <thead>\n",
       "    <tr style=\"text-align: right;\">\n",
       "      <th></th>\n",
       "      <th>OUTLOOK</th>\n",
       "      <th>TEMPERATURE</th>\n",
       "      <th>HUMIDITY</th>\n",
       "      <th>WINDY</th>\n",
       "      <th>PLAY GOLF</th>\n",
       "    </tr>\n",
       "  </thead>\n",
       "  <tbody>\n",
       "    <tr>\n",
       "      <th>0</th>\n",
       "      <td>Rainy</td>\n",
       "      <td>Hot</td>\n",
       "      <td>High</td>\n",
       "      <td>False</td>\n",
       "      <td>No</td>\n",
       "    </tr>\n",
       "    <tr>\n",
       "      <th>1</th>\n",
       "      <td>Rainy</td>\n",
       "      <td>Hot</td>\n",
       "      <td>High</td>\n",
       "      <td>True</td>\n",
       "      <td>No</td>\n",
       "    </tr>\n",
       "    <tr>\n",
       "      <th>2</th>\n",
       "      <td>Overcast</td>\n",
       "      <td>Hot</td>\n",
       "      <td>High</td>\n",
       "      <td>False</td>\n",
       "      <td>Yes</td>\n",
       "    </tr>\n",
       "    <tr>\n",
       "      <th>3</th>\n",
       "      <td>Sunny</td>\n",
       "      <td>Mild</td>\n",
       "      <td>High</td>\n",
       "      <td>False</td>\n",
       "      <td>Yes</td>\n",
       "    </tr>\n",
       "    <tr>\n",
       "      <th>4</th>\n",
       "      <td>Sunny</td>\n",
       "      <td>Cool</td>\n",
       "      <td>Normal</td>\n",
       "      <td>False</td>\n",
       "      <td>Yes</td>\n",
       "    </tr>\n",
       "  </tbody>\n",
       "</table>\n",
       "</div>"
      ],
      "text/plain": [
       "    OUTLOOK TEMPERATURE HUMIDITY  WINDY PLAY GOLF\n",
       "0     Rainy         Hot     High  False        No\n",
       "1     Rainy         Hot     High   True        No\n",
       "2  Overcast         Hot     High  False       Yes\n",
       "3     Sunny        Mild     High  False       Yes\n",
       "4     Sunny        Cool   Normal  False       Yes"
      ]
     },
     "execution_count": 104,
     "metadata": {},
     "output_type": "execute_result"
    }
   ],
   "source": [
    "df.head()"
   ]
  },
  {
   "cell_type": "code",
   "execution_count": 105,
   "metadata": {},
   "outputs": [],
   "source": [
    "X = df.iloc[:, :-1].values\n",
    "y = df.iloc[:, -1].values"
   ]
  },
  {
   "cell_type": "code",
   "execution_count": 106,
   "metadata": {
    "scrolled": false
   },
   "outputs": [
    {
     "name": "stdout",
     "output_type": "stream",
     "text": [
      "0.9402859586706309\n",
      "0.0 4 14\n",
      "0.9709505944546686 5 14\n",
      "0.9709505944546686 5 14\n",
      "0.8112781244591328 4 14\n",
      "1.0 4 14\n",
      "0.9182958340544896 6 14\n",
      "0.9852281360342515 7 14\n",
      "0.5916727785823275 7 14\n",
      "0.8112781244591328 8 14\n",
      "1.0 6 14\n",
      "INFO :  [0.6935361388961919, 0.9110633930116763, 0.7884504573082896, 0.8921589282623617]\n",
      "GAIN :  [0.246749819774439, 0.029222565658954647, 0.15183550136234136, 0.04812703040826927]\n"
     ]
    }
   ],
   "source": [
    "dt = Decision_Tree_Classifier()\n",
    "dt.fit(X, y)"
   ]
  },
  {
   "cell_type": "code",
   "execution_count": 107,
   "metadata": {},
   "outputs": [
    {
     "data": {
      "text/plain": [
       "array(['No', 'No', 'Yes', 'Yes', 'Yes', 'No', 'Yes', 'No', 'Yes', 'Yes',\n",
       "       'Yes', 'Yes', 'Yes', 'No'], dtype=object)"
      ]
     },
     "execution_count": 107,
     "metadata": {},
     "output_type": "execute_result"
    }
   ],
   "source": [
    "y.ravel()"
   ]
  },
  {
   "cell_type": "code",
   "execution_count": 10,
   "metadata": {},
   "outputs": [
    {
     "data": {
      "text/plain": [
       "array(['No', 'No', 'Yes', 'Yes', 'Yes'], dtype=object)"
      ]
     },
     "execution_count": 10,
     "metadata": {},
     "output_type": "execute_result"
    }
   ],
   "source": [
    "y[[0,1,2,3,4]]"
   ]
  },
  {
   "cell_type": "code",
   "execution_count": 34,
   "metadata": {},
   "outputs": [
    {
     "data": {
      "text/plain": [
       "array(['No', 'No', 'Yes', 'Yes'], dtype=object)"
      ]
     },
     "execution_count": 34,
     "metadata": {},
     "output_type": "execute_result"
    }
   ],
   "source": [
    "y[np.where(X[:, 1].ravel() == 'Hot')]"
   ]
  },
  {
   "cell_type": "code",
   "execution_count": 32,
   "metadata": {},
   "outputs": [
    {
     "data": {
      "text/plain": [
       "array(['Hot', 'Hot', 'Hot', 'Mild', 'Cool', 'Cool', 'Cool', 'Mild',\n",
       "       'Cool', 'Mild', 'Mild', 'Mild', 'Hot', 'Mild'], dtype=object)"
      ]
     },
     "execution_count": 32,
     "metadata": {},
     "output_type": "execute_result"
    }
   ],
   "source": [
    "X[:, 1]"
   ]
  },
  {
   "cell_type": "code",
   "execution_count": null,
   "metadata": {},
   "outputs": [],
   "source": []
  }
 ],
 "metadata": {
  "kernelspec": {
   "display_name": "Python 3",
   "language": "python",
   "name": "python3"
  },
  "language_info": {
   "codemirror_mode": {
    "name": "ipython",
    "version": 3
   },
   "file_extension": ".py",
   "mimetype": "text/x-python",
   "name": "python",
   "nbconvert_exporter": "python",
   "pygments_lexer": "ipython3",
   "version": "3.7.7"
  }
 },
 "nbformat": 4,
 "nbformat_minor": 4
}
