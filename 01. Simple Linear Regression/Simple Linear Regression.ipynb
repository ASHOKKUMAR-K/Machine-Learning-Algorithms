{
 "cells": [
  {
   "cell_type": "markdown",
   "metadata": {},
   "source": [
    "# Simple Linear Regression"
   ]
  },
  {
   "cell_type": "markdown",
   "metadata": {},
   "source": [
    "## Let's create my own Simple Linear Regressor"
   ]
  },
  {
   "cell_type": "code",
   "execution_count": 1,
   "metadata": {},
   "outputs": [],
   "source": [
    "# Importing Libraries\n",
    "\n",
    "import pandas as pd             # Import Numpy\n",
    "import numpy as np              # Import Pandas\n",
    "import matplotlib.pyplot as plt # Import Matplotlib.pyplot\n",
    "import seaborn as sb            # Import Seaborn\n",
    "sb.set()                        # Set Seaborn style\n",
    "\n",
    "class SimpleLinearRegressor:\n",
    "    \n",
    "    ''' \n",
    "    Defines Simple Linear Regressor which finds \n",
    "    best fit line for the given data. \n",
    "    '''\n",
    "    \n",
    "    def __init__(self, error_metrics = True, \n",
    "                 visualization = False):\n",
    "        '''\n",
    "        Parameters :\n",
    "        ------------\n",
    "        \n",
    "        X --> Independent Variable, type : pandas.core.series.Series\n",
    "        y --> Dependent Variable  , type : pandas.core.series.Series  \n",
    "        '''\n",
    "        self.error_metrics = error_metrics  # Setting Error Metrics\n",
    "        self.visualization = visualization  # Setting Visualization\n",
    "    \n",
    "    def validate_data(self, X, y):\n",
    "        \n",
    "        # Checking type of X\n",
    "        if type(X) != pd.core.series.Series:\n",
    "            raise TypeError('Independent column (X) must be the type :\\\n",
    "                            pandas.core.series.Series, \\n \\t\\t\\\n",
    "                            but got type {}'. format(type(X)))\n",
    "        \n",
    "        # Checking type of y\n",
    "        elif type(y) != pd.core.series.Series:\n",
    "            raise TypeError('Dependent column (y) must be the type :\\\n",
    "                            pandas.core.series.Series, \\n \\t\\t\\\n",
    "                            but got type {}'. format(type(y)))\n",
    "        # Checking shape of X and y\n",
    "        elif X.shape != y.shape:\n",
    "            raise Exception('Shape does not match, got shape of {} and {}'.\n",
    "                            format(X.shape, y.shape))\n",
    "        else:\n",
    "            pass\n",
    "    \n",
    "    \n",
    "    def fit(self, X, y):\n",
    "        \n",
    "        ''' Fits the data to Multivariate Linear Regression '''\n",
    "        \n",
    "        # Validating Training Data\n",
    "        self.validate_data(X, y)\n",
    "        \n",
    "        # Initializing Independent and Dependent columns\n",
    "        self.X = X                      # Independent Column\n",
    "        self.y = y                      # Dependent Column\n",
    "        \n",
    "        '''Step 1: Finding Mean value of Independent and Dependent column'''\n",
    "        \n",
    "        self._X_mean = self.X.mean()    # Average of Independent column\n",
    "        self._y_mean = self.y.mean()    # Average of Dependent column\n",
    "        \n",
    "        '''Step 2: Finding difference from mean for each data \n",
    "                   on both Independent and Dependent column'''\n",
    "        \n",
    "        # Difference from mean of Independent column\n",
    "        _X_mean_diff = self.X - self._X_mean\n",
    "        # Difference from mean of Dependent column\n",
    "        _y_mean_diff = self.y - self._y_mean \n",
    "        \n",
    "        '''Step 3: Finding the Slope'''\n",
    "        \n",
    "        self.slope = ( _X_mean_diff * _y_mean_diff ).sum() / (_X_mean_diff ** 2).sum()\n",
    "        \n",
    "        '''Step 4: Finding the Intercept'''\n",
    "        \n",
    "        self.intercept = self._y_mean - (self.slope * self._X_mean)\n",
    "        \n",
    "        # Printing Error Metrics\n",
    "        if self.error_metrics:\n",
    "            self.rmse()\n",
    "            self.r2_score()\n",
    "            \n",
    "        # Ploting Visualization\n",
    "        if self.visualization:\n",
    "            self.plot_regressor()\n",
    "        \n",
    "            \n",
    "    def predict(self, X_test):\n",
    "        ''' Predicts new test data '''        \n",
    "        return self.slope * X_test + self.intercept \n",
    "    \n",
    "    def plot_regressor(self):\n",
    "        plt.figure(figsize=(10, 7))      # Setting Figure size\n",
    "        plt.scatter(self.X, self.y)      # Scatter Plot on Train data\n",
    "        plt.scatter(self._X_mean, \n",
    "                    self._y_mean, \n",
    "                    marker = '^', \n",
    "                    s=100, color = 'm')  # Plotting the average point  \n",
    "        _y_pred = self.predict(self.X)   # Predicting the Train data\n",
    "        plt.plot(self.X, _y_pred, 'g')   # Line plot on values predicted by our model\n",
    "        plt.show()\n",
    "        return\n",
    "    \n",
    "    def mse(self):\n",
    "        ''' Returns Mean Squared Error '''\n",
    "        _y_pred = self.predict(self.X)\n",
    "        return ((self.y - _y_pred)**2).sum() / len(self.y)\n",
    "    \n",
    "    def rmse(self):\n",
    "        rmse = self.mse()**0.5\n",
    "        print('RMSE : {}'.format(rmse))\n",
    "        return rmse\n",
    "    \n",
    "    def r2_score(self):\n",
    "        '''\n",
    "        It’s a statistical measure between 0 and 1 which calculates \n",
    "        how similar a regression line is to the data it’s fitted to. \n",
    "        If it’s a 1, the model 100% predicts the data variance; \n",
    "        if it’s a 0, the model predicts none of the variance.\n",
    "        '''\n",
    "        # Predicting Train Data\n",
    "        _y_pred = self.predict(self.X)\n",
    "        # Total Error from the model\n",
    "        line_1_sum = ((self.y - _y_pred) ** 2).sum()\n",
    "        # Total Error from horizontal line from y_mean\n",
    "        line_2_sum = ((self.y - self._y_mean) ** 2).sum()\n",
    "        \n",
    "        # print(line_1_sum, line_2_sum)\n",
    "        \n",
    "        # R2 Score\n",
    "        r2_score = (line_2_sum - line_1_sum) / line_2_sum\n",
    "        \n",
    "        print(\"R2 Score = {}\".format(r2_score))\n",
    "        return r2_score"
   ]
  },
  {
   "cell_type": "markdown",
   "metadata": {},
   "source": [
    "# Own Dataset"
   ]
  },
  {
   "cell_type": "markdown",
   "metadata": {},
   "source": [
    "### Using above created my own class"
   ]
  },
  {
   "cell_type": "code",
   "execution_count": 2,
   "metadata": {},
   "outputs": [
    {
     "data": {
      "text/html": [
       "<div>\n",
       "<style scoped>\n",
       "    .dataframe tbody tr th:only-of-type {\n",
       "        vertical-align: middle;\n",
       "    }\n",
       "\n",
       "    .dataframe tbody tr th {\n",
       "        vertical-align: top;\n",
       "    }\n",
       "\n",
       "    .dataframe thead th {\n",
       "        text-align: right;\n",
       "    }\n",
       "</style>\n",
       "<table border=\"1\" class=\"dataframe\">\n",
       "  <thead>\n",
       "    <tr style=\"text-align: right;\">\n",
       "      <th></th>\n",
       "      <th>X</th>\n",
       "      <th>y</th>\n",
       "    </tr>\n",
       "  </thead>\n",
       "  <tbody>\n",
       "    <tr>\n",
       "      <th>0</th>\n",
       "      <td>1</td>\n",
       "      <td>3</td>\n",
       "    </tr>\n",
       "    <tr>\n",
       "      <th>1</th>\n",
       "      <td>2</td>\n",
       "      <td>4</td>\n",
       "    </tr>\n",
       "    <tr>\n",
       "      <th>2</th>\n",
       "      <td>3</td>\n",
       "      <td>2</td>\n",
       "    </tr>\n",
       "    <tr>\n",
       "      <th>3</th>\n",
       "      <td>4</td>\n",
       "      <td>4</td>\n",
       "    </tr>\n",
       "    <tr>\n",
       "      <th>4</th>\n",
       "      <td>5</td>\n",
       "      <td>5</td>\n",
       "    </tr>\n",
       "  </tbody>\n",
       "</table>\n",
       "</div>"
      ],
      "text/plain": [
       "   X  y\n",
       "0  1  3\n",
       "1  2  4\n",
       "2  3  2\n",
       "3  4  4\n",
       "4  5  5"
      ]
     },
     "execution_count": 2,
     "metadata": {},
     "output_type": "execute_result"
    }
   ],
   "source": [
    "df = pd.DataFrame({'X' : [1,2,3,4,5], 'y' : [3,4,2,4,5]})\n",
    "df"
   ]
  },
  {
   "cell_type": "code",
   "execution_count": 3,
   "metadata": {},
   "outputs": [],
   "source": [
    "own_regressor = SimpleLinearRegressor(visualization=True)"
   ]
  },
  {
   "cell_type": "code",
   "execution_count": 4,
   "metadata": {},
   "outputs": [
    {
     "name": "stdout",
     "output_type": "stream",
     "text": [
      "RMSE : 0.848528137423857\n",
      "R2 Score = 0.30769230769230776\n"
     ]
    },
    {
     "data": {
      "image/png": "[encoded data removed]",
      "text/plain": [
       "<Figure size 720x504 with 1 Axes>"
      ]
     },
     "metadata": {},
     "output_type": "display_data"
    }
   ],
   "source": [
    "own_regressor.fit(df['X'], df['y'])"
   ]
  },
  {
   "cell_type": "code",
   "execution_count": 5,
   "metadata": {},
   "outputs": [
    {
     "data": {
      "text/plain": [
       "2.4"
      ]
     },
     "execution_count": 5,
     "metadata": {},
     "output_type": "execute_result"
    }
   ],
   "source": [
    "own_regressor.intercept"
   ]
  },
  {
   "cell_type": "code",
   "execution_count": 6,
   "metadata": {},
   "outputs": [
    {
     "data": {
      "text/plain": [
       "0.4"
      ]
     },
     "execution_count": 6,
     "metadata": {},
     "output_type": "execute_result"
    }
   ],
   "source": [
    "own_regressor.slope"
   ]
  },
  {
   "cell_type": "markdown",
   "metadata": {},
   "source": [
    "### Using sklearn"
   ]
  },
  {
   "cell_type": "code",
   "execution_count": 7,
   "metadata": {},
   "outputs": [],
   "source": [
    "from sklearn.linear_model import LinearRegression"
   ]
  },
  {
   "cell_type": "code",
   "execution_count": 8,
   "metadata": {},
   "outputs": [],
   "source": [
    "X = df.iloc[:, [0]].values\n",
    "y = df.iloc[:, 1].values"
   ]
  },
  {
   "cell_type": "code",
   "execution_count": 9,
   "metadata": {},
   "outputs": [],
   "source": [
    "skl_regressor = LinearRegression()"
   ]
  },
  {
   "cell_type": "code",
   "execution_count": 10,
   "metadata": {},
   "outputs": [
    {
     "data": {
      "text/plain": [
       "LinearRegression(copy_X=True, fit_intercept=True, n_jobs=None, normalize=False)"
      ]
     },
     "execution_count": 10,
     "metadata": {},
     "output_type": "execute_result"
    }
   ],
   "source": [
    "skl_regressor.fit(X, y)"
   ]
  },
  {
   "cell_type": "code",
   "execution_count": 11,
   "metadata": {},
   "outputs": [
    {
     "data": {
      "text/plain": [
       "array([0.4])"
      ]
     },
     "execution_count": 11,
     "metadata": {},
     "output_type": "execute_result"
    }
   ],
   "source": [
    "skl_regressor.coef_"
   ]
  },
  {
   "cell_type": "code",
   "execution_count": 12,
   "metadata": {},
   "outputs": [
    {
     "data": {
      "text/plain": [
       "2.4000000000000004"
      ]
     },
     "execution_count": 12,
     "metadata": {},
     "output_type": "execute_result"
    }
   ],
   "source": [
    "skl_regressor.intercept_"
   ]
  },
  {
   "cell_type": "code",
   "execution_count": 13,
   "metadata": {},
   "outputs": [
    {
     "data": {
      "text/plain": [
       "0.7200000000000002"
      ]
     },
     "execution_count": 13,
     "metadata": {},
     "output_type": "execute_result"
    }
   ],
   "source": [
    "from sklearn.metrics import mean_squared_error, r2_score\n",
    "mean_squared_error(y, skl_regressor.predict(X))"
   ]
  },
  {
   "cell_type": "code",
   "execution_count": 14,
   "metadata": {},
   "outputs": [
    {
     "data": {
      "text/plain": [
       "0.3076923076923075"
      ]
     },
     "execution_count": 14,
     "metadata": {},
     "output_type": "execute_result"
    }
   ],
   "source": [
    "r2_score(y, skl_regressor.predict(X))"
   ]
  },
  {
   "cell_type": "markdown",
   "metadata": {},
   "source": [
    "<br><br><br><br><br><br><br>"
   ]
  },
  {
   "cell_type": "markdown",
   "metadata": {},
   "source": [
    "# Salary Dataset"
   ]
  },
  {
   "cell_type": "markdown",
   "metadata": {},
   "source": [
    "### Using above created my own class"
   ]
  },
  {
   "cell_type": "code",
   "execution_count": 15,
   "metadata": {},
   "outputs": [
    {
     "data": {
      "text/html": [
       "<div>\n",
       "<style scoped>\n",
       "    .dataframe tbody tr th:only-of-type {\n",
       "        vertical-align: middle;\n",
       "    }\n",
       "\n",
       "    .dataframe tbody tr th {\n",
       "        vertical-align: top;\n",
       "    }\n",
       "\n",
       "    .dataframe thead th {\n",
       "        text-align: right;\n",
       "    }\n",
       "</style>\n",
       "<table border=\"1\" class=\"dataframe\">\n",
       "  <thead>\n",
       "    <tr style=\"text-align: right;\">\n",
       "      <th></th>\n",
       "      <th>YearsExperience</th>\n",
       "      <th>Salary</th>\n",
       "    </tr>\n",
       "  </thead>\n",
       "  <tbody>\n",
       "    <tr>\n",
       "      <th>0</th>\n",
       "      <td>1.1</td>\n",
       "      <td>39343.0</td>\n",
       "    </tr>\n",
       "    <tr>\n",
       "      <th>1</th>\n",
       "      <td>1.3</td>\n",
       "      <td>46205.0</td>\n",
       "    </tr>\n",
       "    <tr>\n",
       "      <th>2</th>\n",
       "      <td>1.5</td>\n",
       "      <td>37731.0</td>\n",
       "    </tr>\n",
       "    <tr>\n",
       "      <th>3</th>\n",
       "      <td>2.0</td>\n",
       "      <td>43525.0</td>\n",
       "    </tr>\n",
       "    <tr>\n",
       "      <th>4</th>\n",
       "      <td>2.2</td>\n",
       "      <td>39891.0</td>\n",
       "    </tr>\n",
       "  </tbody>\n",
       "</table>\n",
       "</div>"
      ],
      "text/plain": [
       "   YearsExperience   Salary\n",
       "0              1.1  39343.0\n",
       "1              1.3  46205.0\n",
       "2              1.5  37731.0\n",
       "3              2.0  43525.0\n",
       "4              2.2  39891.0"
      ]
     },
     "execution_count": 15,
     "metadata": {},
     "output_type": "execute_result"
    }
   ],
   "source": [
    "salary = pd.read_csv('Salary_Data.csv')\n",
    "salary.head()"
   ]
  },
  {
   "cell_type": "code",
   "execution_count": 16,
   "metadata": {},
   "outputs": [
    {
     "data": {
      "text/plain": [
       "(30, 2)"
      ]
     },
     "execution_count": 16,
     "metadata": {},
     "output_type": "execute_result"
    }
   ],
   "source": [
    "salary.shape"
   ]
  },
  {
   "cell_type": "code",
   "execution_count": 17,
   "metadata": {},
   "outputs": [],
   "source": [
    "own_salary_regressor = SimpleLinearRegressor(visualization=True)"
   ]
  },
  {
   "cell_type": "code",
   "execution_count": 18,
   "metadata": {},
   "outputs": [
    {
     "name": "stdout",
     "output_type": "stream",
     "text": [
      "RMSE : 5592.043608760662\n",
      "R2 Score = 0.9569566641435084\n"
     ]
    },
    {
     "data": {
      "image/png": "[encoded data removed]",
      "text/plain": [
       "<Figure size 720x504 with 1 Axes>"
      ]
     },
     "metadata": {},
     "output_type": "display_data"
    }
   ],
   "source": [
    "own_salary_regressor.fit(salary['YearsExperience'], salary['Salary'])"
   ]
  },
  {
   "cell_type": "markdown",
   "metadata": {},
   "source": [
    "### Using sklearn"
   ]
  },
  {
   "cell_type": "code",
   "execution_count": 19,
   "metadata": {},
   "outputs": [],
   "source": [
    "from sklearn.linear_model import LinearRegression"
   ]
  },
  {
   "cell_type": "code",
   "execution_count": 20,
   "metadata": {},
   "outputs": [
    {
     "data": {
      "text/plain": [
       "(array([9449.96232146]), 25792.200198668717)"
      ]
     },
     "execution_count": 20,
     "metadata": {},
     "output_type": "execute_result"
    }
   ],
   "source": [
    "X = salary.iloc[:, [0]].values\n",
    "y = salary.iloc[:, 1].values\n",
    "\n",
    "skl_salary_regressor = LinearRegression()\n",
    "skl_salary_regressor.fit(X, y)\n",
    "\n",
    "skl_salary_regressor.coef_, skl_salary_regressor.intercept_"
   ]
  },
  {
   "cell_type": "code",
   "execution_count": 21,
   "metadata": {},
   "outputs": [
    {
     "data": {
      "text/plain": [
       "31270951.722280957"
      ]
     },
     "execution_count": 21,
     "metadata": {},
     "output_type": "execute_result"
    }
   ],
   "source": [
    "from sklearn.metrics import mean_squared_error, r2_score\n",
    "mean_squared_error(y, skl_salary_regressor.predict(X))"
   ]
  },
  {
   "cell_type": "code",
   "execution_count": 22,
   "metadata": {},
   "outputs": [
    {
     "data": {
      "text/plain": [
       "0.9569566641435086"
      ]
     },
     "execution_count": 22,
     "metadata": {},
     "output_type": "execute_result"
    }
   ],
   "source": [
    "r2_score(y, skl_salary_regressor.predict(X))"
   ]
  },
  {
   "cell_type": "markdown",
   "metadata": {},
   "source": [
    "<br><br><br><br><br><br><br>"
   ]
  },
  {
   "cell_type": "markdown",
   "metadata": {},
   "source": [
    "# Height - Weight dataset"
   ]
  },
  {
   "cell_type": "code",
   "execution_count": 23,
   "metadata": {},
   "outputs": [
    {
     "data": {
      "text/html": [
       "<div>\n",
       "<style scoped>\n",
       "    .dataframe tbody tr th:only-of-type {\n",
       "        vertical-align: middle;\n",
       "    }\n",
       "\n",
       "    .dataframe tbody tr th {\n",
       "        vertical-align: top;\n",
       "    }\n",
       "\n",
       "    .dataframe thead th {\n",
       "        text-align: right;\n",
       "    }\n",
       "</style>\n",
       "<table border=\"1\" class=\"dataframe\">\n",
       "  <thead>\n",
       "    <tr style=\"text-align: right;\">\n",
       "      <th></th>\n",
       "      <th>Gender</th>\n",
       "      <th>Height</th>\n",
       "      <th>Weight</th>\n",
       "      <th>Index</th>\n",
       "    </tr>\n",
       "  </thead>\n",
       "  <tbody>\n",
       "    <tr>\n",
       "      <th>0</th>\n",
       "      <td>Male</td>\n",
       "      <td>174</td>\n",
       "      <td>96</td>\n",
       "      <td>4</td>\n",
       "    </tr>\n",
       "    <tr>\n",
       "      <th>1</th>\n",
       "      <td>Male</td>\n",
       "      <td>189</td>\n",
       "      <td>87</td>\n",
       "      <td>2</td>\n",
       "    </tr>\n",
       "    <tr>\n",
       "      <th>4</th>\n",
       "      <td>Male</td>\n",
       "      <td>149</td>\n",
       "      <td>61</td>\n",
       "      <td>3</td>\n",
       "    </tr>\n",
       "    <tr>\n",
       "      <th>5</th>\n",
       "      <td>Male</td>\n",
       "      <td>189</td>\n",
       "      <td>104</td>\n",
       "      <td>3</td>\n",
       "    </tr>\n",
       "    <tr>\n",
       "      <th>6</th>\n",
       "      <td>Male</td>\n",
       "      <td>147</td>\n",
       "      <td>92</td>\n",
       "      <td>5</td>\n",
       "    </tr>\n",
       "  </tbody>\n",
       "</table>\n",
       "</div>"
      ],
      "text/plain": [
       "  Gender  Height  Weight  Index\n",
       "0   Male     174      96      4\n",
       "1   Male     189      87      2\n",
       "4   Male     149      61      3\n",
       "5   Male     189     104      3\n",
       "6   Male     147      92      5"
      ]
     },
     "execution_count": 23,
     "metadata": {},
     "output_type": "execute_result"
    }
   ],
   "source": [
    "hw = pd.read_csv('500_Person_Gender_Height_Weight_Index.csv')\n",
    "hw = hw[hw['Gender'] == 'Male']\n",
    "hw.head()"
   ]
  },
  {
   "cell_type": "markdown",
   "metadata": {},
   "source": [
    "### Using above created my own class"
   ]
  },
  {
   "cell_type": "code",
   "execution_count": 24,
   "metadata": {},
   "outputs": [
    {
     "name": "stdout",
     "output_type": "stream",
     "text": [
      "RMSE : 31.756853390023103\n",
      "R2 Score = 0.0006829275267121801\n"
     ]
    },
    {
     "data": {
      "image/png": "[encoded data removed]",
      "text/plain": [
       "<Figure size 720x504 with 1 Axes>"
      ]
     },
     "metadata": {},
     "output_type": "display_data"
    }
   ],
   "source": [
    "own_weight_regressor = SimpleLinearRegressor(visualization=True)\n",
    "own_weight_regressor.fit(hw['Height'], hw['Weight'])"
   ]
  },
  {
   "cell_type": "markdown",
   "metadata": {},
   "source": [
    "### Using sklearn"
   ]
  },
  {
   "cell_type": "code",
   "execution_count": 25,
   "metadata": {},
   "outputs": [
    {
     "data": {
      "text/plain": [
       "(array([-0.04874589]), 114.58397655987221)"
      ]
     },
     "execution_count": 25,
     "metadata": {},
     "output_type": "execute_result"
    }
   ],
   "source": [
    "X = hw.iloc[:, [1]].values\n",
    "y = hw.iloc[:, 2].values\n",
    "\n",
    "from sklearn.linear_model import LinearRegression\n",
    "skl_weight_regressor = LinearRegression()\n",
    "skl_weight_regressor.fit(X, y)\n",
    "skl_weight_regressor.coef_, skl_weight_regressor.intercept_"
   ]
  },
  {
   "cell_type": "code",
   "execution_count": 26,
   "metadata": {},
   "outputs": [
    {
     "data": {
      "text/plain": [
       "1008.4977372354218"
      ]
     },
     "execution_count": 26,
     "metadata": {},
     "output_type": "execute_result"
    }
   ],
   "source": [
    "from sklearn.metrics import mean_squared_error, r2_score\n",
    "mean_squared_error(y, skl_weight_regressor.predict(X))"
   ]
  },
  {
   "cell_type": "code",
   "execution_count": 27,
   "metadata": {},
   "outputs": [
    {
     "data": {
      "text/plain": [
       "0.0006829275267122847"
      ]
     },
     "execution_count": 27,
     "metadata": {},
     "output_type": "execute_result"
    }
   ],
   "source": [
    "r2_score(y, skl_weight_regressor.predict(X))"
   ]
  }
 ],
 "metadata": {
  "kernelspec": {
   "display_name": "Python 3",
   "language": "python",
   "name": "python3"
  },
  "language_info": {
   "codemirror_mode": {
    "name": "ipython",
    "version": 3
   },
   "file_extension": ".py",
   "mimetype": "text/x-python",
   "name": "python",
   "nbconvert_exporter": "python",
   "pygments_lexer": "ipython3",
   "version": "3.7.7"
  }
 },
 "nbformat": 4,
 "nbformat_minor": 4
}
