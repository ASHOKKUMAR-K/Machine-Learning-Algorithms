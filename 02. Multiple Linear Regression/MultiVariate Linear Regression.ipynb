{
 "cells": [
  {
   "cell_type": "markdown",
   "metadata": {},
   "source": [
    "# Import Libraries"
   ]
  },
  {
   "cell_type": "code",
   "execution_count": 1,
   "metadata": {},
   "outputs": [],
   "source": [
    "import pandas as pd\n",
    "import numpy as np\n",
    "import matplotlib.pyplot as plt"
   ]
  },
  {
   "cell_type": "markdown",
   "metadata": {},
   "source": [
    "# Creating My Own Multiple_Linear_Regression"
   ]
  },
  {
   "cell_type": "code",
   "execution_count": 2,
   "metadata": {},
   "outputs": [],
   "source": [
    "class Multi_Variate_Linear_Regression:\n",
    "    \n",
    "    '''\n",
    "    Step 1: Add one more column with 1 as values to the Independent variable (X)\n",
    "    Step 2: Randomly choose weightage for each column in Independent Variable column\n",
    "    Step 3: \n",
    "    '''\n",
    "    \n",
    "    def __init__(self, X, y, random_seed = 42):\n",
    "        \n",
    "        self.X = np.hstack((np.ones((X.shape[0], 1)), X))\n",
    "        self.y = y.reshape(-1, 1)\n",
    "        \n",
    "        self._m_records = self.X.shape[0]\n",
    "        self._n_features = self.X.shape[1]\n",
    "        \n",
    "        np.random.seed(random_seed)\n",
    "        self._weights = np.random.randn(1, self._n_features)\n",
    "        self._costs = []\n",
    "        \n",
    "        self._y_mean = np.mean(self.y, axis = 0)[0]\n",
    "        \n",
    "    def mean_absolute_error(self, y_true, y_pred):\n",
    "        return np.sum(np.abs(y_true - y_pred)) / len(y_true)\n",
    "    \n",
    "    def fit(self, learning_rate = 0.0000001, epochs = 60000):\n",
    "        for epoch in range(1 , epochs+1):\n",
    "            Hypothesis = np.dot(self._weights, self.X.T)\n",
    "            error = (Hypothesis - y)\n",
    "            if epoch % 1000 == 0:\n",
    "                cost = np.sum(error**2) / 2\n",
    "                self._costs.append(cost)\n",
    "                mae = self.mean_absolute_error(y, Hypothesis)\n",
    "                print('Epoch {}\\t: MAE_Error is {}\\t| Costs\\t:{}'.format(epoch, mae, cost))\n",
    "                \n",
    "            updater = learning_rate * error\n",
    "            self._weights = self._weights - np.dot(updater, self.X)\n",
    "#             print(self._weights.shape)\n",
    "        \n",
    "        self.intercept = self._weights[0][0]\n",
    "        self.coefficient = self._weights[0][1:]\n",
    "    \n",
    "        return self.intercept, self.coefficient\n",
    "    \n",
    "    def plot_cost_function(self):\n",
    "        x_axis = list(range(1, len(self._costs)+1))\n",
    "        y_axis = self._costs\n",
    "        \n",
    "        plt.figure(figsize = (7, 10))\n",
    "        plt.plot(x_axis, y_axis)\n",
    "        plt.title('Cost Function Plot')\n",
    "        plt.xlabel('Epochs in Thousands', fontsize = 20)\n",
    "        plt.ylabel('Costs', fontsize = 20)\n",
    "        plt.show()\n",
    "        \n",
    "    def r2_score(self):\n",
    "        '''\n",
    "        It’s a statistical measure between 0 and 1 which calculates \n",
    "        how similar a regression line is to the data it’s fitted to. \n",
    "        If it’s a 1, the model 100% predicts the data variance; \n",
    "        if it’s a 0, the model predicts none of the variance.\n",
    "        '''\n",
    "#         print(self._weights.shape, self.X.T.shape)\n",
    "        _y_pred = np.dot(self._weights, self.X.T)\n",
    "#         print(self.y.shape, _y_pred.shape)\n",
    "#         print(_y_pred)\n",
    "#         print(self.y - _y_pred.T)\n",
    "        line_1_sum = np.sum((self.y - _y_pred.T) ** 2)\n",
    "        line_2_sum = np.sum((self.y - self._y_mean) ** 2)\n",
    "#         print(line_1_sum, line_2_sum)\n",
    "        r2_score = (line_2_sum - line_1_sum) / line_2_sum\n",
    "        \n",
    "        print(\"R2 Score = {}\".format(r2_score))\n",
    "        return r2_score"
   ]
  },
  {
   "cell_type": "markdown",
   "metadata": {},
   "source": [
    "<br><br><br><br><br><br><br><br>"
   ]
  },
  {
   "cell_type": "markdown",
   "metadata": {},
   "source": [
    "# Exam Score Dataset"
   ]
  },
  {
   "cell_type": "code",
   "execution_count": 3,
   "metadata": {},
   "outputs": [
    {
     "name": "stdout",
     "output_type": "stream",
     "text": [
      "*** No CODEPAGE record, no encoding_override: will use 'ascii'\n"
     ]
    },
    {
     "data": {
      "text/html": [
       "<div>\n",
       "<style scoped>\n",
       "    .dataframe tbody tr th:only-of-type {\n",
       "        vertical-align: middle;\n",
       "    }\n",
       "\n",
       "    .dataframe tbody tr th {\n",
       "        vertical-align: top;\n",
       "    }\n",
       "\n",
       "    .dataframe thead th {\n",
       "        text-align: right;\n",
       "    }\n",
       "</style>\n",
       "<table border=\"1\" class=\"dataframe\">\n",
       "  <thead>\n",
       "    <tr style=\"text-align: right;\">\n",
       "      <th></th>\n",
       "      <th>EXAM1</th>\n",
       "      <th>EXAM2</th>\n",
       "      <th>EXAM3</th>\n",
       "      <th>FINAL</th>\n",
       "    </tr>\n",
       "  </thead>\n",
       "  <tbody>\n",
       "    <tr>\n",
       "      <th>0</th>\n",
       "      <td>73</td>\n",
       "      <td>80</td>\n",
       "      <td>75</td>\n",
       "      <td>152</td>\n",
       "    </tr>\n",
       "    <tr>\n",
       "      <th>1</th>\n",
       "      <td>93</td>\n",
       "      <td>88</td>\n",
       "      <td>93</td>\n",
       "      <td>185</td>\n",
       "    </tr>\n",
       "    <tr>\n",
       "      <th>2</th>\n",
       "      <td>89</td>\n",
       "      <td>91</td>\n",
       "      <td>90</td>\n",
       "      <td>180</td>\n",
       "    </tr>\n",
       "    <tr>\n",
       "      <th>3</th>\n",
       "      <td>96</td>\n",
       "      <td>98</td>\n",
       "      <td>100</td>\n",
       "      <td>196</td>\n",
       "    </tr>\n",
       "    <tr>\n",
       "      <th>4</th>\n",
       "      <td>73</td>\n",
       "      <td>66</td>\n",
       "      <td>70</td>\n",
       "      <td>142</td>\n",
       "    </tr>\n",
       "  </tbody>\n",
       "</table>\n",
       "</div>"
      ],
      "text/plain": [
       "   EXAM1  EXAM2  EXAM3  FINAL\n",
       "0     73     80     75    152\n",
       "1     93     88     93    185\n",
       "2     89     91     90    180\n",
       "3     96     98    100    196\n",
       "4     73     66     70    142"
      ]
     },
     "execution_count": 3,
     "metadata": {},
     "output_type": "execute_result"
    }
   ],
   "source": [
    "exam = pd.read_excel('mlr03.xls')\n",
    "exam.head()"
   ]
  },
  {
   "cell_type": "code",
   "execution_count": 22,
   "metadata": {},
   "outputs": [],
   "source": [
    "X = exam.iloc[:, [0, 1, 2]].values\n",
    "y = exam.iloc[:, 3].values"
   ]
  },
  {
   "cell_type": "markdown",
   "metadata": {},
   "source": [
    "## Using My Own Multi Variate Linear Regression class"
   ]
  },
  {
   "cell_type": "code",
   "execution_count": 23,
   "metadata": {
    "scrolled": true
   },
   "outputs": [
    {
     "name": "stdout",
     "output_type": "stream",
     "text": [
      "Epoch 1000\t: MAE_Error is 2.5170811502593637\t| Costs\t:112.73977493430341\n",
      "Epoch 2000\t: MAE_Error is 2.2505167188695467\t| Costs\t:95.3215714276338\n",
      "Epoch 3000\t: MAE_Error is 2.06170953917592\t| Costs\t:86.64085744999522\n",
      "Epoch 4000\t: MAE_Error is 1.9856821529024773\t| Costs\t:82.20369284936166\n",
      "Epoch 5000\t: MAE_Error is 1.9480736653358712\t| Costs\t:79.89558583614817\n",
      "Epoch 6000\t: MAE_Error is 1.9231449656649284\t| Costs\t:78.68035951367224\n",
      "Epoch 7000\t: MAE_Error is 1.9198821201985408\t| Costs\t:78.03480002895282\n",
      "Epoch 8000\t: MAE_Error is 1.9173767705371825\t| Costs\t:77.68915813480294\n",
      "Epoch 9000\t: MAE_Error is 1.9159170716366225\t| Costs\t:77.50242353813142\n",
      "Epoch 10000\t: MAE_Error is 1.914904959200876\t| Costs\t:77.40022154936494\n",
      "Epoch 11000\t: MAE_Error is 1.9140830493224121\t| Costs\t:77.34310071820265\n",
      "Epoch 12000\t: MAE_Error is 1.9134282711210482\t| Costs\t:77.3100598100133\n",
      "Epoch 13000\t: MAE_Error is 1.912911826112735\t| Costs\t:77.28989445978081\n",
      "Epoch 14000\t: MAE_Error is 1.9125058060831919\t| Costs\t:77.27661883585093\n",
      "Epoch 15000\t: MAE_Error is 1.9121858689271938\t| Costs\t:77.26703235523668\n",
      "Epoch 16000\t: MAE_Error is 1.911931953831492\t| Costs\t:77.2594227952005\n",
      "Epoch 17000\t: MAE_Error is 1.911728091713436\t| Costs\t:77.25287386932071\n",
      "Epoch 18000\t: MAE_Error is 1.91156185760129\t| Costs\t:77.24689513420059\n",
      "Epoch 19000\t: MAE_Error is 1.9114237353714714\t| Costs\t:77.24122404650156\n",
      "Epoch 20000\t: MAE_Error is 1.9113065183683273\t| Costs\t:77.23572005041255\n",
      "Epoch 21000\t: MAE_Error is 1.9112047936481116\t| Costs\t:77.23030789313184\n",
      "Epoch 22000\t: MAE_Error is 1.9111145203198783\t| Costs\t:77.224947282529\n",
      "Epoch 23000\t: MAE_Error is 1.9110326956148964\t| Costs\t:77.21961664380682\n",
      "Epoch 24000\t: MAE_Error is 1.910957095976495\t| Costs\t:77.21430442335597\n",
      "Epoch 25000\t: MAE_Error is 1.91088607925463\t| Costs\t:77.20900443295405\n",
      "Epoch 26000\t: MAE_Error is 1.9108184351746622\t| Costs\t:77.20371335705862\n",
      "Epoch 27000\t: MAE_Error is 1.910753273173052\t| Costs\t:77.19842941819728\n",
      "Epoch 28000\t: MAE_Error is 1.9106899387472935\t| Costs\t:77.19315166240611\n",
      "Epoch 29000\t: MAE_Error is 1.9106279513427813\t| Costs\t:77.18787957663973\n",
      "Epoch 30000\t: MAE_Error is 1.9105669583844707\t| Costs\t:77.18261288393239\n",
      "Epoch 31000\t: MAE_Error is 1.9105067013431523\t| Costs\t:77.17735143372062\n",
      "Epoch 32000\t: MAE_Error is 1.9104469907346697\t| Costs\t:77.17209514311992\n",
      "Epoch 33000\t: MAE_Error is 1.9103876877284653\t| Costs\t:77.16684396548729\n",
      "Epoch 34000\t: MAE_Error is 1.9103286906338082\t| Costs\t:77.16159787358195\n",
      "Epoch 35000\t: MAE_Error is 1.9102699249794615\t| Costs\t:77.15635685055828\n",
      "Epoch 36000\t: MAE_Error is 1.9102113362360638\t| Costs\t:77.15112088513504\n",
      "Epoch 37000\t: MAE_Error is 1.9101528844804825\t| Costs\t:77.1458899690143\n",
      "Epoch 38000\t: MAE_Error is 1.910094540485444\t| Costs\t:77.14066409549679\n",
      "Epoch 39000\t: MAE_Error is 1.9100362828547799\t| Costs\t:77.13544325874186\n",
      "Epoch 40000\t: MAE_Error is 1.9099780959251984\t| Costs\t:77.13022745337051\n"
     ]
    },
    {
     "data": {
      "text/plain": [
       "(0.4004348479040693, array([0.35598692, 0.52922545, 1.12335354]))"
      ]
     },
     "execution_count": 23,
     "metadata": {},
     "output_type": "execute_result"
    }
   ],
   "source": [
    "own_exam_regressor = Multi_Variate_Linear_Regression(X, y)\n",
    "own_exam_regressor.fit(learning_rate = 0.000001, epochs = 40000)"
   ]
  },
  {
   "cell_type": "code",
   "execution_count": 24,
   "metadata": {},
   "outputs": [
    {
     "data": {
      "text/plain": [
       "0.4004348479040693"
      ]
     },
     "execution_count": 24,
     "metadata": {},
     "output_type": "execute_result"
    }
   ],
   "source": [
    "own_exam_regressor.intercept"
   ]
  },
  {
   "cell_type": "code",
   "execution_count": 25,
   "metadata": {},
   "outputs": [
    {
     "data": {
      "text/plain": [
       "array([0.35598692, 0.52922545, 1.12335354])"
      ]
     },
     "execution_count": 25,
     "metadata": {},
     "output_type": "execute_result"
    }
   ],
   "source": [
    "own_exam_regressor.coefficient"
   ]
  },
  {
   "cell_type": "code",
   "execution_count": 26,
   "metadata": {},
   "outputs": [
    {
     "data": {
      "image/png": "[encoded data removed]",
      "text/plain": [
       "<Figure size 504x720 with 1 Axes>"
      ]
     },
     "metadata": {
      "needs_background": "light"
     },
     "output_type": "display_data"
    }
   ],
   "source": [
    "own_exam_regressor.plot_cost_function()"
   ]
  },
  {
   "cell_type": "code",
   "execution_count": 27,
   "metadata": {},
   "outputs": [
    {
     "name": "stdout",
     "output_type": "stream",
     "text": [
      "R2 Score = 0.9888820980759466\n"
     ]
    },
    {
     "data": {
      "text/plain": [
       "0.9888820980759466"
      ]
     },
     "execution_count": 27,
     "metadata": {},
     "output_type": "execute_result"
    }
   ],
   "source": [
    "own_exam_regressor.r2_score()"
   ]
  },
  {
   "cell_type": "markdown",
   "metadata": {},
   "source": [
    "<br><br><br>\n",
    "\n",
    "## Using Sklearn"
   ]
  },
  {
   "cell_type": "code",
   "execution_count": 10,
   "metadata": {},
   "outputs": [
    {
     "data": {
      "text/plain": [
       "LinearRegression(copy_X=True, fit_intercept=True, n_jobs=None, normalize=False)"
      ]
     },
     "execution_count": 10,
     "metadata": {},
     "output_type": "execute_result"
    }
   ],
   "source": [
    "from sklearn.linear_model import LinearRegression\n",
    "skl_exam_regressor = LinearRegression()\n",
    "skl_exam_regressor.fit(X, y)"
   ]
  },
  {
   "cell_type": "code",
   "execution_count": 11,
   "metadata": {},
   "outputs": [
    {
     "data": {
      "text/plain": [
       "-4.336102401240339"
      ]
     },
     "execution_count": 11,
     "metadata": {},
     "output_type": "execute_result"
    }
   ],
   "source": [
    "skl_exam_regressor.intercept_"
   ]
  },
  {
   "cell_type": "code",
   "execution_count": 12,
   "metadata": {},
   "outputs": [
    {
     "data": {
      "text/plain": [
       "array([0.35593822, 0.54251876, 1.16744422])"
      ]
     },
     "execution_count": 12,
     "metadata": {},
     "output_type": "execute_result"
    }
   ],
   "source": [
    "skl_exam_regressor.coef_"
   ]
  },
  {
   "cell_type": "code",
   "execution_count": 13,
   "metadata": {},
   "outputs": [
    {
     "data": {
      "text/plain": [
       "0.9896615789448399"
      ]
     },
     "execution_count": 13,
     "metadata": {},
     "output_type": "execute_result"
    }
   ],
   "source": [
    "from sklearn.metrics import r2_score\n",
    "r2_score(y, skl_exam_regressor.predict(X))"
   ]
  },
  {
   "cell_type": "markdown",
   "metadata": {},
   "source": [
    "<br><br><br><br><br><br><br><br><br><br><br>"
   ]
  },
  {
   "cell_type": "markdown",
   "metadata": {},
   "source": [
    "# Salary DataSet"
   ]
  },
  {
   "cell_type": "code",
   "execution_count": 14,
   "metadata": {},
   "outputs": [
    {
     "data": {
      "text/html": [
       "<div>\n",
       "<style scoped>\n",
       "    .dataframe tbody tr th:only-of-type {\n",
       "        vertical-align: middle;\n",
       "    }\n",
       "\n",
       "    .dataframe tbody tr th {\n",
       "        vertical-align: top;\n",
       "    }\n",
       "\n",
       "    .dataframe thead th {\n",
       "        text-align: right;\n",
       "    }\n",
       "</style>\n",
       "<table border=\"1\" class=\"dataframe\">\n",
       "  <thead>\n",
       "    <tr style=\"text-align: right;\">\n",
       "      <th></th>\n",
       "      <th>YearsExperience</th>\n",
       "      <th>Salary</th>\n",
       "    </tr>\n",
       "  </thead>\n",
       "  <tbody>\n",
       "    <tr>\n",
       "      <th>0</th>\n",
       "      <td>1.1</td>\n",
       "      <td>39343.0</td>\n",
       "    </tr>\n",
       "    <tr>\n",
       "      <th>1</th>\n",
       "      <td>1.3</td>\n",
       "      <td>46205.0</td>\n",
       "    </tr>\n",
       "    <tr>\n",
       "      <th>2</th>\n",
       "      <td>1.5</td>\n",
       "      <td>37731.0</td>\n",
       "    </tr>\n",
       "    <tr>\n",
       "      <th>3</th>\n",
       "      <td>2.0</td>\n",
       "      <td>43525.0</td>\n",
       "    </tr>\n",
       "    <tr>\n",
       "      <th>4</th>\n",
       "      <td>2.2</td>\n",
       "      <td>39891.0</td>\n",
       "    </tr>\n",
       "  </tbody>\n",
       "</table>\n",
       "</div>"
      ],
      "text/plain": [
       "   YearsExperience   Salary\n",
       "0              1.1  39343.0\n",
       "1              1.3  46205.0\n",
       "2              1.5  37731.0\n",
       "3              2.0  43525.0\n",
       "4              2.2  39891.0"
      ]
     },
     "execution_count": 14,
     "metadata": {},
     "output_type": "execute_result"
    }
   ],
   "source": [
    "salary = pd.read_csv('Salary_Data.csv')\n",
    "salary.head()"
   ]
  },
  {
   "cell_type": "code",
   "execution_count": 15,
   "metadata": {},
   "outputs": [],
   "source": [
    "X = salary.iloc[:, [0]].values\n",
    "y = salary.iloc[:, 1].values"
   ]
  },
  {
   "cell_type": "markdown",
   "metadata": {},
   "source": [
    "## Using My Own Multi Variate Linear Regression class"
   ]
  },
  {
   "cell_type": "code",
   "execution_count": 16,
   "metadata": {
    "scrolled": true
   },
   "outputs": [
    {
     "name": "stdout",
     "output_type": "stream",
     "text": [
      "Epoch 1000\t: MAE_Error is 6610.519542090897\t| Costs\t:988663244.9528105\n",
      "Epoch 2000\t: MAE_Error is 5268.558579619017\t| Costs\t:615050605.1132333\n",
      "Epoch 3000\t: MAE_Error is 4739.783227845904\t| Costs\t:510080539.5356499\n",
      "Epoch 4000\t: MAE_Error is 4621.989635633313\t| Costs\t:480588189.726249\n",
      "Epoch 5000\t: MAE_Error is 4625.035985793437\t| Costs\t:472302030.31028557\n",
      "Epoch 6000\t: MAE_Error is 4634.042600595613\t| Costs\t:469973954.10372686\n",
      "Epoch 7000\t: MAE_Error is 4638.816612999429\t| Costs\t:469319858.6957746\n",
      "Epoch 8000\t: MAE_Error is 4641.347108078028\t| Costs\t:469136084.29805535\n",
      "Epoch 9000\t: MAE_Error is 4642.688412792216\t| Costs\t:469084451.1129784\n",
      "Epoch 10000\t: MAE_Error is 4643.399379729681\t| Costs\t:469069944.27288353\n",
      "Epoch 11000\t: MAE_Error is 4643.77623219342\t| Costs\t:469065868.4365928\n",
      "Epoch 12000\t: MAE_Error is 4643.975985194498\t| Costs\t:469064723.29117465\n",
      "Epoch 13000\t: MAE_Error is 4644.081865519768\t| Costs\t:469064401.5515525\n",
      "Epoch 14000\t: MAE_Error is 4644.137988047185\t| Costs\t:469064311.1557102\n",
      "Epoch 15000\t: MAE_Error is 4644.167736143211\t| Costs\t:469064285.7581282\n",
      "Epoch 16000\t: MAE_Error is 4644.183504307227\t| Costs\t:469064278.6224333\n",
      "Epoch 17000\t: MAE_Error is 4644.191862321005\t| Costs\t:469064276.61759156\n",
      "Epoch 18000\t: MAE_Error is 4644.196292538386\t| Costs\t:469064276.0543117\n",
      "Epoch 19000\t: MAE_Error is 4644.198640802771\t| Costs\t:469064275.8960532\n",
      "Epoch 20000\t: MAE_Error is 4644.199885514961\t| Costs\t:469064275.8515886\n",
      "Epoch 21000\t: MAE_Error is 4644.200545282431\t| Costs\t:469064275.83909583\n",
      "Epoch 22000\t: MAE_Error is 4644.200894996299\t| Costs\t:469064275.8355859\n",
      "Epoch 23000\t: MAE_Error is 4644.201080364317\t| Costs\t:469064275.8345997\n",
      "Epoch 24000\t: MAE_Error is 4644.201178619792\t| Costs\t:469064275.83432275\n",
      "Epoch 25000\t: MAE_Error is 4644.20123070072\t| Costs\t:469064275.83424485\n",
      "Epoch 26000\t: MAE_Error is 4644.201258306539\t| Costs\t:469064275.83422303\n",
      "Epoch 27000\t: MAE_Error is 4644.201272939178\t| Costs\t:469064275.834217\n",
      "Epoch 28000\t: MAE_Error is 4644.201280695297\t| Costs\t:469064275.8342149\n",
      "Epoch 29000\t: MAE_Error is 4644.201284806478\t| Costs\t:469064275.8342146\n",
      "Epoch 30000\t: MAE_Error is 4644.201286985639\t| Costs\t:469064275.8342148\n"
     ]
    },
    {
     "data": {
      "text/plain": [
       "(25792.20007060085, array([9449.96234046]))"
      ]
     },
     "execution_count": 16,
     "metadata": {},
     "output_type": "execute_result"
    }
   ],
   "source": [
    "own_sal_regressor = Multi_Variate_Linear_Regression(X, y, random_seed = 100)\n",
    "own_sal_regressor.fit(learning_rate = 0.0001, epochs = 30000)"
   ]
  },
  {
   "cell_type": "code",
   "execution_count": 17,
   "metadata": {},
   "outputs": [
    {
     "name": "stdout",
     "output_type": "stream",
     "text": [
      "R2 Score = 0.9569566641435084\n"
     ]
    },
    {
     "data": {
      "text/plain": [
       "0.9569566641435084"
      ]
     },
     "execution_count": 17,
     "metadata": {},
     "output_type": "execute_result"
    }
   ],
   "source": [
    "own_sal_regressor.r2_score()"
   ]
  },
  {
   "cell_type": "code",
   "execution_count": 18,
   "metadata": {},
   "outputs": [
    {
     "data": {
      "image/png": "[encoded data removed]",
      "text/plain": [
       "<Figure size 504x720 with 1 Axes>"
      ]
     },
     "metadata": {
      "needs_background": "light"
     },
     "output_type": "display_data"
    }
   ],
   "source": [
    "own_sal_regressor.plot_cost_function()"
   ]
  },
  {
   "cell_type": "markdown",
   "metadata": {},
   "source": [
    "## Using Sklearn"
   ]
  },
  {
   "cell_type": "code",
   "execution_count": 19,
   "metadata": {},
   "outputs": [
    {
     "data": {
      "text/plain": [
       "LinearRegression(copy_X=True, fit_intercept=True, n_jobs=None, normalize=False)"
      ]
     },
     "execution_count": 19,
     "metadata": {},
     "output_type": "execute_result"
    }
   ],
   "source": [
    "from sklearn.linear_model import LinearRegression\n",
    "skl_sal_regressor = LinearRegression()\n",
    "skl_sal_regressor.fit(X, y)"
   ]
  },
  {
   "cell_type": "code",
   "execution_count": 20,
   "metadata": {},
   "outputs": [
    {
     "data": {
      "text/plain": [
       "(array([9449.96232146]), 25792.200198668717)"
      ]
     },
     "execution_count": 20,
     "metadata": {},
     "output_type": "execute_result"
    }
   ],
   "source": [
    "skl_sal_regressor.coef_, skl_sal_regressor.intercept_"
   ]
  },
  {
   "cell_type": "code",
   "execution_count": 21,
   "metadata": {},
   "outputs": [
    {
     "data": {
      "text/plain": [
       "0.9569566641435086"
      ]
     },
     "execution_count": 21,
     "metadata": {},
     "output_type": "execute_result"
    }
   ],
   "source": [
    "from sklearn.metrics import r2_score\n",
    "r2_score(y, skl_sal_regressor.predict(X))"
   ]
  },
  {
   "cell_type": "code",
   "execution_count": null,
   "metadata": {},
   "outputs": [],
   "source": []
  }
 ],
 "metadata": {
  "kernelspec": {
   "display_name": "Python 3",
   "language": "python",
   "name": "python3"
  },
  "language_info": {
   "codemirror_mode": {
    "name": "ipython",
    "version": 3
   },
   "file_extension": ".py",
   "mimetype": "text/x-python",
   "name": "python",
   "nbconvert_exporter": "python",
   "pygments_lexer": "ipython3",
   "version": "3.7.7"
  }
 },
 "nbformat": 4,
 "nbformat_minor": 4
}
