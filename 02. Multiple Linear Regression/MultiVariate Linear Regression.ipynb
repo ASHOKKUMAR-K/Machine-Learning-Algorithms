{
 "cells": [
  {
   "cell_type": "markdown",
   "metadata": {},
   "source": [
    "# MultiVariate Linear Regression"
   ]
  },
  {
   "cell_type": "markdown",
   "metadata": {},
   "source": [
    "## Creating My Own Multiple_Linear_Regression"
   ]
  },
  {
   "cell_type": "code",
   "execution_count": 1,
   "metadata": {},
   "outputs": [],
   "source": [
    "# Import Libraries : Numpy, Pandas, matplotlib.pyplot, seaborn\n",
    "import pandas as pd\n",
    "import numpy as np\n",
    "import matplotlib.pyplot as plt\n",
    "import seaborn as sb\n",
    "sb.set()\n",
    "\n",
    "class Multi_Variate_Linear_Regression:\n",
    "    \n",
    "    '''\n",
    "    Step 1: Add one more column with 1 as values to the Independent variable (X)\n",
    "    Step 2: Randomly choose weightage for each column in Independent Variable column\n",
    "    Step 3: \n",
    "    '''\n",
    "    \n",
    "    def __init__(self, \n",
    "                 visualization = False, \n",
    "                 error_metrics = True ):\n",
    "        self.visualization = visualization                           # Setting Visualization to plot or not\n",
    "        self.error_metrics = error_metrics                           # Setting error metrics to print or not\n",
    "            \n",
    "    def validate_data(self, X, y):\n",
    "        if X.shape[0] != y.shape[0]:\n",
    "            raise Exception('Shape does no match. Got shape of {} and {}'.format(X.shape, y.shape))\n",
    "        elif X.ndim != 2:\n",
    "            raise Exception('Independent column must have 2 Dimensions. Got dimension of {}'. format(X.ndim))\n",
    "        elif y.ndim != 1:\n",
    "            raise Exception('Dependent column must have 1 Dimensions. Got dimension of {}'. format(y.ndim))\n",
    "        else:\n",
    "            pass\n",
    "    \n",
    "    def fit(self, X, y, random_seed = 42):\n",
    "        \n",
    "        # Validating the Training Data\n",
    "        self.validate_data(X, y)\n",
    "        \n",
    "        # Calculating Number of Features and Records\n",
    "        self._m_records, self._n_features = X.shape\n",
    "        \n",
    "        # Step 1: Initializing Independent and Dependent variables columns\n",
    "        self.X_old = X\n",
    "        self.X = np.hstack((np.ones((self._m_records, 1)), X))\n",
    "        self.y = y.reshape(-1, 1)\n",
    "        \n",
    "        # Step 2: Randomly choosing a weight for each column in Independent variable column & Constant column\n",
    "        #np.random.seed(random_seed)\n",
    "        #self._weights = np.random.randn(1, self._n_features)\n",
    "        self._weights = np.hstack((1, np.mean(X, axis = 0))).reshape(1, -1) / 1000\n",
    "        \n",
    "        \n",
    "        # Step 3: Initializing costs lists to know the cost at each learning rate\n",
    "        self._costs = []\n",
    "        \n",
    "        # Step 4: Initializing Learning rate\n",
    "        learning_rate = np.max(X) / 50\n",
    "        # iterations = {}\n",
    "        \n",
    "        \n",
    "        for i in range(20):\n",
    "            # print('Iterations : ', i+1, 'Learning Rate : ', learning_rate)\n",
    "            # n_iter = 0\n",
    "            s_cost = []\n",
    "            while True:\n",
    "                \n",
    "                # Step 5: Find the predictions for the weights\n",
    "                Hypothesis = np.dot(self._weights, self.X.T)\n",
    "                \n",
    "                # Step 6: Find the error given by the predictions\n",
    "                error = (Hypothesis - y)\n",
    "                \n",
    "                # Step 7: Find the cost for previous predictions\n",
    "                cost = np.sum(error**2) / 2\n",
    "                \n",
    "                if len(s_cost) == 0:\n",
    "                    pass\n",
    "                else:\n",
    "                    if round(cost, (3*i)//4) >= round(s_cost[-1], (3*i)//4):\n",
    "                        break\n",
    "                s_cost.append(cost)\n",
    "                mae = self.mean_absolute_error(y, Hypothesis)\n",
    "\n",
    "                # Step 7: Multiply the error by learning rate\n",
    "                updater = learning_rate * error\n",
    "                prev_weights = self._weights\n",
    "                \n",
    "                # Step 8 : Updating to the new weight\n",
    "                self._weights = self._weights - np.dot(updater, self.X)\n",
    "                \n",
    "                \n",
    "                # n_iter += 1\n",
    "            \n",
    "            self._weights = prev_weights\n",
    "            # print(s_cost[-1])\n",
    "            self._costs.extend(s_cost)\n",
    "            # iterations[i] = n_iter\n",
    "            learning_rate = learning_rate / 10\n",
    "        \n",
    "        self.intercept = self._weights[0][0]\n",
    "        self.coefficient = self._weights[0][1:]\n",
    "        # print('Iterations : \\n\\t\\t {}'.format(iterations))\n",
    "        \n",
    "        if self.error_metrics:\n",
    "            print('R2 score : \\t {}'.format(self.r2_score()))\n",
    "        \n",
    "        if self.visualization:\n",
    "            self.plot_cost_function()\n",
    "        return self.intercept, self.coefficient\n",
    "    \n",
    "    def mean_absolute_error(self, y_true, y_pred):\n",
    "        return np.sum(np.abs(y_true - y_pred)) / len(y_true)\n",
    "    \n",
    "    def plot_cost_function(self):\n",
    "        x_axis = list(range(1, len(self._costs)+1))\n",
    "        y_axis = self._costs\n",
    "        \n",
    "        plt.figure(figsize = (8, 6))\n",
    "        plt.plot(x_axis, y_axis)\n",
    "        plt.title('Cost Function Plot')\n",
    "        plt.xlabel('Epochs', fontsize = 20)\n",
    "        plt.ylabel('Costs', fontsize = 20)\n",
    "        plt.show()\n",
    "        \n",
    "    def r2_score(self):\n",
    "        '''\n",
    "        It’s a statistical measure between 0 and 1 which calculates \n",
    "        how similar a regression line is to the data it’s fitted to. \n",
    "        If it’s a 1, the model 100% predicts the data variance; \n",
    "        if it’s a 0, the model predicts none of the variance.\n",
    "        '''\n",
    "        \n",
    "        _y_pred = np.dot(self._weights, self.X.T)\n",
    "        \n",
    "        self._y_mean = np.mean(self.y)\n",
    "        \n",
    "        line_1_sum = np.sum((self.y - _y_pred.T) ** 2)\n",
    "        line_2_sum = np.sum((self.y - self._y_mean) ** 2)\n",
    "        r2_score = (line_2_sum - line_1_sum) / line_2_sum\n",
    "        \n",
    "        return r2_score"
   ]
  },
  {
   "cell_type": "markdown",
   "metadata": {},
   "source": [
    "<br><br><br><br><br><br><br><br>"
   ]
  },
  {
   "cell_type": "markdown",
   "metadata": {},
   "source": [
    "# Exam Score Dataset"
   ]
  },
  {
   "cell_type": "code",
   "execution_count": 2,
   "metadata": {},
   "outputs": [
    {
     "name": "stdout",
     "output_type": "stream",
     "text": [
      "*** No CODEPAGE record, no encoding_override: will use 'ascii'\n"
     ]
    },
    {
     "data": {
      "text/html": [
       "<div>\n",
       "<style scoped>\n",
       "    .dataframe tbody tr th:only-of-type {\n",
       "        vertical-align: middle;\n",
       "    }\n",
       "\n",
       "    .dataframe tbody tr th {\n",
       "        vertical-align: top;\n",
       "    }\n",
       "\n",
       "    .dataframe thead th {\n",
       "        text-align: right;\n",
       "    }\n",
       "</style>\n",
       "<table border=\"1\" class=\"dataframe\">\n",
       "  <thead>\n",
       "    <tr style=\"text-align: right;\">\n",
       "      <th></th>\n",
       "      <th>EXAM1</th>\n",
       "      <th>EXAM2</th>\n",
       "      <th>EXAM3</th>\n",
       "      <th>FINAL</th>\n",
       "    </tr>\n",
       "  </thead>\n",
       "  <tbody>\n",
       "    <tr>\n",
       "      <th>0</th>\n",
       "      <td>73</td>\n",
       "      <td>80</td>\n",
       "      <td>75</td>\n",
       "      <td>152</td>\n",
       "    </tr>\n",
       "    <tr>\n",
       "      <th>1</th>\n",
       "      <td>93</td>\n",
       "      <td>88</td>\n",
       "      <td>93</td>\n",
       "      <td>185</td>\n",
       "    </tr>\n",
       "    <tr>\n",
       "      <th>2</th>\n",
       "      <td>89</td>\n",
       "      <td>91</td>\n",
       "      <td>90</td>\n",
       "      <td>180</td>\n",
       "    </tr>\n",
       "    <tr>\n",
       "      <th>3</th>\n",
       "      <td>96</td>\n",
       "      <td>98</td>\n",
       "      <td>100</td>\n",
       "      <td>196</td>\n",
       "    </tr>\n",
       "    <tr>\n",
       "      <th>4</th>\n",
       "      <td>73</td>\n",
       "      <td>66</td>\n",
       "      <td>70</td>\n",
       "      <td>142</td>\n",
       "    </tr>\n",
       "  </tbody>\n",
       "</table>\n",
       "</div>"
      ],
      "text/plain": [
       "   EXAM1  EXAM2  EXAM3  FINAL\n",
       "0     73     80     75    152\n",
       "1     93     88     93    185\n",
       "2     89     91     90    180\n",
       "3     96     98    100    196\n",
       "4     73     66     70    142"
      ]
     },
     "execution_count": 2,
     "metadata": {},
     "output_type": "execute_result"
    }
   ],
   "source": [
    "exam = pd.read_excel('mlr03.xls')\n",
    "exam.head()"
   ]
  },
  {
   "cell_type": "code",
   "execution_count": 3,
   "metadata": {},
   "outputs": [],
   "source": [
    "X = exam.iloc[:, [0, 1, 2]].values\n",
    "y = exam.iloc[:, 3].values"
   ]
  },
  {
   "cell_type": "markdown",
   "metadata": {},
   "source": [
    "## Using My Own Multi Variate Linear Regression class"
   ]
  },
  {
   "cell_type": "code",
   "execution_count": 4,
   "metadata": {
    "scrolled": false
   },
   "outputs": [
    {
     "name": "stdout",
     "output_type": "stream",
     "text": [
      "R2 score : \t 0.9890006054799901\n"
     ]
    },
    {
     "data": {
      "image/png": "[encoded data removed]",
      "text/plain": [
       "<Figure size 576x432 with 1 Axes>"
      ]
     },
     "metadata": {},
     "output_type": "display_data"
    },
    {
     "data": {
      "text/plain": [
       "(-0.007219911665453429, array([0.37301053, 0.52324764, 1.11755921]))"
      ]
     },
     "execution_count": 4,
     "metadata": {},
     "output_type": "execute_result"
    }
   ],
   "source": [
    "own_exam_regressor = Multi_Variate_Linear_Regression(visualization=True, error_metrics=True)\n",
    "own_exam_regressor.fit(X, y)"
   ]
  },
  {
   "cell_type": "code",
   "execution_count": 5,
   "metadata": {},
   "outputs": [
    {
     "data": {
      "text/plain": [
       "-0.007219911665453429"
      ]
     },
     "execution_count": 5,
     "metadata": {},
     "output_type": "execute_result"
    }
   ],
   "source": [
    "own_exam_regressor.intercept"
   ]
  },
  {
   "cell_type": "code",
   "execution_count": 6,
   "metadata": {},
   "outputs": [
    {
     "data": {
      "text/plain": [
       "array([0.37301053, 0.52324764, 1.11755921])"
      ]
     },
     "execution_count": 6,
     "metadata": {},
     "output_type": "execute_result"
    }
   ],
   "source": [
    "own_exam_regressor.coefficient"
   ]
  },
  {
   "cell_type": "code",
   "execution_count": 7,
   "metadata": {},
   "outputs": [
    {
     "data": {
      "text/plain": [
       "0.9890006054799901"
      ]
     },
     "execution_count": 7,
     "metadata": {},
     "output_type": "execute_result"
    }
   ],
   "source": [
    "own_exam_regressor.r2_score()"
   ]
  },
  {
   "cell_type": "markdown",
   "metadata": {},
   "source": [
    "<br><br><br>\n",
    "\n",
    "## Using Sklearn"
   ]
  },
  {
   "cell_type": "code",
   "execution_count": 8,
   "metadata": {},
   "outputs": [
    {
     "data": {
      "text/plain": [
       "LinearRegression(copy_X=True, fit_intercept=True, n_jobs=None, normalize=False)"
      ]
     },
     "execution_count": 8,
     "metadata": {},
     "output_type": "execute_result"
    }
   ],
   "source": [
    "from sklearn.linear_model import LinearRegression\n",
    "skl_exam_regressor = LinearRegression()\n",
    "skl_exam_regressor.fit(X, y)"
   ]
  },
  {
   "cell_type": "code",
   "execution_count": 9,
   "metadata": {},
   "outputs": [
    {
     "data": {
      "text/plain": [
       "-4.336102401240339"
      ]
     },
     "execution_count": 9,
     "metadata": {},
     "output_type": "execute_result"
    }
   ],
   "source": [
    "skl_exam_regressor.intercept_"
   ]
  },
  {
   "cell_type": "code",
   "execution_count": 10,
   "metadata": {},
   "outputs": [
    {
     "data": {
      "text/plain": [
       "array([0.35593822, 0.54251876, 1.16744422])"
      ]
     },
     "execution_count": 10,
     "metadata": {},
     "output_type": "execute_result"
    }
   ],
   "source": [
    "skl_exam_regressor.coef_"
   ]
  },
  {
   "cell_type": "code",
   "execution_count": 11,
   "metadata": {},
   "outputs": [
    {
     "data": {
      "text/plain": [
       "0.9896615789448399"
      ]
     },
     "execution_count": 11,
     "metadata": {},
     "output_type": "execute_result"
    }
   ],
   "source": [
    "from sklearn.metrics import r2_score\n",
    "r2_score(y, skl_exam_regressor.predict(X))"
   ]
  },
  {
   "cell_type": "markdown",
   "metadata": {},
   "source": [
    "<br><br><br><br><br><br><br><br><br><br><br>"
   ]
  },
  {
   "cell_type": "markdown",
   "metadata": {},
   "source": [
    "# Salary DataSet"
   ]
  },
  {
   "cell_type": "code",
   "execution_count": 12,
   "metadata": {},
   "outputs": [
    {
     "data": {
      "text/html": [
       "<div>\n",
       "<style scoped>\n",
       "    .dataframe tbody tr th:only-of-type {\n",
       "        vertical-align: middle;\n",
       "    }\n",
       "\n",
       "    .dataframe tbody tr th {\n",
       "        vertical-align: top;\n",
       "    }\n",
       "\n",
       "    .dataframe thead th {\n",
       "        text-align: right;\n",
       "    }\n",
       "</style>\n",
       "<table border=\"1\" class=\"dataframe\">\n",
       "  <thead>\n",
       "    <tr style=\"text-align: right;\">\n",
       "      <th></th>\n",
       "      <th>YearsExperience</th>\n",
       "      <th>Salary</th>\n",
       "    </tr>\n",
       "  </thead>\n",
       "  <tbody>\n",
       "    <tr>\n",
       "      <th>0</th>\n",
       "      <td>1.1</td>\n",
       "      <td>39343.0</td>\n",
       "    </tr>\n",
       "    <tr>\n",
       "      <th>1</th>\n",
       "      <td>1.3</td>\n",
       "      <td>46205.0</td>\n",
       "    </tr>\n",
       "    <tr>\n",
       "      <th>2</th>\n",
       "      <td>1.5</td>\n",
       "      <td>37731.0</td>\n",
       "    </tr>\n",
       "    <tr>\n",
       "      <th>3</th>\n",
       "      <td>2.0</td>\n",
       "      <td>43525.0</td>\n",
       "    </tr>\n",
       "    <tr>\n",
       "      <th>4</th>\n",
       "      <td>2.2</td>\n",
       "      <td>39891.0</td>\n",
       "    </tr>\n",
       "  </tbody>\n",
       "</table>\n",
       "</div>"
      ],
      "text/plain": [
       "   YearsExperience   Salary\n",
       "0              1.1  39343.0\n",
       "1              1.3  46205.0\n",
       "2              1.5  37731.0\n",
       "3              2.0  43525.0\n",
       "4              2.2  39891.0"
      ]
     },
     "execution_count": 12,
     "metadata": {},
     "output_type": "execute_result"
    }
   ],
   "source": [
    "salary = pd.read_csv('Salary_Data.csv')\n",
    "salary.head()"
   ]
  },
  {
   "cell_type": "code",
   "execution_count": 13,
   "metadata": {},
   "outputs": [],
   "source": [
    "X = salary.iloc[:, [0]].values\n",
    "y = salary.iloc[:, 1].values"
   ]
  },
  {
   "cell_type": "markdown",
   "metadata": {},
   "source": [
    "## Using My Own Multi Variate Linear Regression class"
   ]
  },
  {
   "cell_type": "code",
   "execution_count": 14,
   "metadata": {
    "scrolled": false
   },
   "outputs": [
    {
     "name": "stdout",
     "output_type": "stream",
     "text": [
      "R2 score : \t 0.9569566638148764\n"
     ]
    },
    {
     "data": {
      "image/png": "[encoded data removed]",
      "text/plain": [
       "<Figure size 576x432 with 1 Axes>"
      ]
     },
     "metadata": {},
     "output_type": "display_data"
    },
    {
     "data": {
      "text/plain": [
       "(25791.14929420419, array([9450.11827128]))"
      ]
     },
     "execution_count": 14,
     "metadata": {},
     "output_type": "execute_result"
    }
   ],
   "source": [
    "own_sal_regressor = Multi_Variate_Linear_Regression(visualization=True)\n",
    "own_sal_regressor.fit(X, y)"
   ]
  },
  {
   "cell_type": "code",
   "execution_count": 15,
   "metadata": {},
   "outputs": [
    {
     "data": {
      "text/plain": [
       "0.9569566638148764"
      ]
     },
     "execution_count": 15,
     "metadata": {},
     "output_type": "execute_result"
    }
   ],
   "source": [
    "own_sal_regressor.r2_score()"
   ]
  },
  {
   "cell_type": "markdown",
   "metadata": {},
   "source": [
    "## Using Sklearn"
   ]
  },
  {
   "cell_type": "code",
   "execution_count": 16,
   "metadata": {},
   "outputs": [
    {
     "data": {
      "text/plain": [
       "LinearRegression(copy_X=True, fit_intercept=True, n_jobs=None, normalize=False)"
      ]
     },
     "execution_count": 16,
     "metadata": {},
     "output_type": "execute_result"
    }
   ],
   "source": [
    "from sklearn.linear_model import LinearRegression\n",
    "skl_sal_regressor = LinearRegression()\n",
    "skl_sal_regressor.fit(X, y)"
   ]
  },
  {
   "cell_type": "code",
   "execution_count": 17,
   "metadata": {},
   "outputs": [
    {
     "data": {
      "text/plain": [
       "(array([9449.96232146]), 25792.200198668717)"
      ]
     },
     "execution_count": 17,
     "metadata": {},
     "output_type": "execute_result"
    }
   ],
   "source": [
    "skl_sal_regressor.coef_, skl_sal_regressor.intercept_"
   ]
  },
  {
   "cell_type": "code",
   "execution_count": 18,
   "metadata": {},
   "outputs": [
    {
     "data": {
      "text/plain": [
       "0.9569566641435086"
      ]
     },
     "execution_count": 18,
     "metadata": {},
     "output_type": "execute_result"
    }
   ],
   "source": [
    "from sklearn.metrics import r2_score\n",
    "r2_score(y, skl_sal_regressor.predict(X))"
   ]
  },
  {
   "cell_type": "code",
   "execution_count": null,
   "metadata": {},
   "outputs": [],
   "source": []
  }
 ],
 "metadata": {
  "kernelspec": {
   "display_name": "Python 3",
   "language": "python",
   "name": "python3"
  },
  "language_info": {
   "codemirror_mode": {
    "name": "ipython",
    "version": 3
   },
   "file_extension": ".py",
   "mimetype": "text/x-python",
   "name": "python",
   "nbconvert_exporter": "python",
   "pygments_lexer": "ipython3",
   "version": "3.7.7"
  }
 },
 "nbformat": 4,
 "nbformat_minor": 4
}
