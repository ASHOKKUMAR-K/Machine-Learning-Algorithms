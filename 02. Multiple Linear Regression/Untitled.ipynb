{
 "cells": [
  {
   "cell_type": "code",
   "execution_count": 1,
   "metadata": {},
   "outputs": [],
   "source": [
    "import pandas as pd\n",
    "import numpy as np"
   ]
  },
  {
   "cell_type": "code",
   "execution_count": 156,
   "metadata": {},
   "outputs": [
    {
     "name": "stdout",
     "output_type": "stream",
     "text": [
      "*** No CODEPAGE record, no encoding_override: will use 'ascii'\n"
     ]
    },
    {
     "data": {
      "text/html": [
       "<div>\n",
       "<style scoped>\n",
       "    .dataframe tbody tr th:only-of-type {\n",
       "        vertical-align: middle;\n",
       "    }\n",
       "\n",
       "    .dataframe tbody tr th {\n",
       "        vertical-align: top;\n",
       "    }\n",
       "\n",
       "    .dataframe thead th {\n",
       "        text-align: right;\n",
       "    }\n",
       "</style>\n",
       "<table border=\"1\" class=\"dataframe\">\n",
       "  <thead>\n",
       "    <tr style=\"text-align: right;\">\n",
       "      <th></th>\n",
       "      <th>EXAM1</th>\n",
       "      <th>EXAM2</th>\n",
       "      <th>EXAM3</th>\n",
       "      <th>FINAL</th>\n",
       "    </tr>\n",
       "  </thead>\n",
       "  <tbody>\n",
       "    <tr>\n",
       "      <th>0</th>\n",
       "      <td>73</td>\n",
       "      <td>80</td>\n",
       "      <td>75</td>\n",
       "      <td>152</td>\n",
       "    </tr>\n",
       "    <tr>\n",
       "      <th>1</th>\n",
       "      <td>93</td>\n",
       "      <td>88</td>\n",
       "      <td>93</td>\n",
       "      <td>185</td>\n",
       "    </tr>\n",
       "    <tr>\n",
       "      <th>2</th>\n",
       "      <td>89</td>\n",
       "      <td>91</td>\n",
       "      <td>90</td>\n",
       "      <td>180</td>\n",
       "    </tr>\n",
       "    <tr>\n",
       "      <th>3</th>\n",
       "      <td>96</td>\n",
       "      <td>98</td>\n",
       "      <td>100</td>\n",
       "      <td>196</td>\n",
       "    </tr>\n",
       "    <tr>\n",
       "      <th>4</th>\n",
       "      <td>73</td>\n",
       "      <td>66</td>\n",
       "      <td>70</td>\n",
       "      <td>142</td>\n",
       "    </tr>\n",
       "  </tbody>\n",
       "</table>\n",
       "</div>"
      ],
      "text/plain": [
       "   EXAM1  EXAM2  EXAM3  FINAL\n",
       "0     73     80     75    152\n",
       "1     93     88     93    185\n",
       "2     89     91     90    180\n",
       "3     96     98    100    196\n",
       "4     73     66     70    142"
      ]
     },
     "execution_count": 156,
     "metadata": {},
     "output_type": "execute_result"
    }
   ],
   "source": [
    "df = pd.read_excel('mlr03.xls')\n",
    "df.head()"
   ]
  },
  {
   "cell_type": "code",
   "execution_count": 176,
   "metadata": {},
   "outputs": [],
   "source": [
    "X = df.iloc[:, [0, 1, 2]].values\n",
    "y = df.iloc[:, 3].values"
   ]
  },
  {
   "cell_type": "code",
   "execution_count": 177,
   "metadata": {},
   "outputs": [
    {
     "data": {
      "text/plain": [
       "array([1., 1., 1., 1., 1., 1., 1., 1., 1., 1., 1., 1., 1., 1., 1., 1., 1.,\n",
       "       1., 1., 1., 1., 1., 1., 1., 1.])"
      ]
     },
     "execution_count": 177,
     "metadata": {},
     "output_type": "execute_result"
    }
   ],
   "source": [
    "x0 = np.ones(X.shape[0])\n",
    "x0"
   ]
  },
  {
   "cell_type": "code",
   "execution_count": 178,
   "metadata": {},
   "outputs": [],
   "source": [
    "x0.shape = (25, 1)"
   ]
  },
  {
   "cell_type": "code",
   "execution_count": 179,
   "metadata": {},
   "outputs": [
    {
     "data": {
      "text/plain": [
       "array([ 1., 73., 80., 75.])"
      ]
     },
     "execution_count": 179,
     "metadata": {},
     "output_type": "execute_result"
    }
   ],
   "source": [
    "new_X = np.hstack((x0, X))\n",
    "new_X[0]"
   ]
  },
  {
   "cell_type": "code",
   "execution_count": 180,
   "metadata": {},
   "outputs": [
    {
     "data": {
      "text/plain": [
       "array([[0., 0., 0., 0.]])"
      ]
     },
     "execution_count": 180,
     "metadata": {},
     "output_type": "execute_result"
    }
   ],
   "source": [
    "theta = np.zeros((1, X.shape[1] + 1))\n",
    "theta"
   ]
  },
  {
   "cell_type": "markdown",
   "metadata": {},
   "source": [
    "## Loop starts here"
   ]
  },
  {
   "cell_type": "code",
   "execution_count": 561,
   "metadata": {},
   "outputs": [
    {
     "data": {
      "text/plain": [
       "array([[0.00399435, 0.32230198, 0.32405736, 0.33205033]])"
      ]
     },
     "execution_count": 561,
     "metadata": {},
     "output_type": "execute_result"
    }
   ],
   "source": [
    "theta"
   ]
  },
  {
   "cell_type": "code",
   "execution_count": 827,
   "metadata": {},
   "outputs": [
    {
     "name": "stdout",
     "output_type": "stream",
     "text": [
      "[[ 1.63437958e-09 -3.32379795e-10  1.94851208e-09  2.16379952e-09\n",
      "  -1.16421139e-09  2.84647472e-09 -6.59188581e-10 -5.01796794e-09\n",
      "  -2.40203003e-09 -4.11328378e-09  1.91437200e-09 -7.44693536e-11\n",
      "   3.96994219e-09  4.24740646e-09  1.02554415e-09 -4.59933728e-09\n",
      "   1.79944726e-09 -4.97451183e-09  2.19913035e-09  1.34054243e-09\n",
      "  -3.04782499e-09 -1.74997572e-09 -9.15372691e-09  5.88142459e-09\n",
      "  -6.19249750e-10]]\n",
      "\n",
      "\n",
      "[[0.00824849 0.66491042 0.66839401 0.68821716]]\n"
     ]
    }
   ],
   "source": [
    "# theta.shape, new_X.shape\n",
    "for i in range(100):\n",
    "    hypothesis = np.dot(theta, new_X)\n",
    "    updater = hypothesis - y\n",
    "#     print(updater)\n",
    "    learning_rate = 0.000000001\n",
    "    updater = learning_rate * updater\n",
    "    dtheta = np.dot(updater, new_X.T)\n",
    "    theta = theta - dtheta\n",
    "print(updater, end = '\\n\\n\\n')\n",
    "print(theta)"
   ]
  },
  {
   "cell_type": "code",
   "execution_count": 832,
   "metadata": {},
   "outputs": [
    {
     "data": {
      "text/plain": [
       "184.66778566613806"
      ]
     },
     "execution_count": 832,
     "metadata": {},
     "output_type": "execute_result"
    }
   ],
   "source": [
    "p[0]*1 + p[1]*93 + p[2]*88 + p[3]*93"
   ]
  },
  {
   "cell_type": "code",
   "execution_count": 824,
   "metadata": {},
   "outputs": [
    {
     "data": {
      "text/plain": [
       "array([[ 1.62035074e-09, -3.49342072e-10,  1.93185611e-09,\n",
       "         2.14559599e-09, -1.17712021e-09,  2.83684719e-09,\n",
       "        -6.72881295e-10, -5.02820920e-09, -2.41798397e-09,\n",
       "        -4.12821131e-09,  1.90121536e-09, -8.75111073e-11,\n",
       "         3.95279801e-09,  4.23323934e-09,  1.01176636e-09,\n",
       "        -4.61660162e-09,  1.78600128e-09, -4.99096145e-09,\n",
       "         2.18281153e-09,  1.32594029e-09, -3.06387363e-09,\n",
       "        -1.76594457e-09, -9.16900124e-09,  5.86742869e-09,\n",
       "        -6.36783202e-10]])"
      ]
     },
     "execution_count": 824,
     "metadata": {},
     "output_type": "execute_result"
    }
   ],
   "source": [
    "updater"
   ]
  },
  {
   "cell_type": "code",
   "execution_count": 820,
   "metadata": {},
   "outputs": [
    {
     "data": {
      "text/plain": [
       "array([[152, 185, 180, 196, 142, 101, 149, 115, 175, 164, 141, 141, 184,\n",
       "        152, 148, 192, 147, 183, 177, 159, 177, 175, 175, 149, 192]])"
      ]
     },
     "execution_count": 820,
     "metadata": {},
     "output_type": "execute_result"
    }
   ],
   "source": [
    "y"
   ]
  },
  {
   "cell_type": "code",
   "execution_count": 825,
   "metadata": {},
   "outputs": [
    {
     "data": {
      "text/plain": [
       "array([[153.62035074, 184.65065793, 181.93185611, 198.14559599,\n",
       "        140.82287979, 103.83684719, 148.32711871, 109.9717908 ,\n",
       "        172.58201603, 159.87178869, 142.90121536, 140.91248889,\n",
       "        187.95279801, 156.23323934, 149.01176636, 187.38339838,\n",
       "        148.78600128, 178.00903855, 179.18281153, 160.32594029,\n",
       "        173.93612637, 173.23405543, 165.83099876, 154.86742869,\n",
       "        191.3632168 ]])"
      ]
     },
     "execution_count": 825,
     "metadata": {},
     "output_type": "execute_result"
    }
   ],
   "source": [
    "hypothesis"
   ]
  },
  {
   "cell_type": "code",
   "execution_count": 826,
   "metadata": {},
   "outputs": [
    {
     "data": {
      "text/plain": [
       "array([[ 1.62035074, -0.34934207,  1.93185611,  2.14559599, -1.17712021,\n",
       "         2.83684719, -0.67288129, -5.0282092 , -2.41798397, -4.12821131,\n",
       "         1.90121536, -0.08751111,  3.95279801,  4.23323934,  1.01176636,\n",
       "        -4.61660162,  1.78600128, -4.99096145,  2.18281153,  1.32594029,\n",
       "        -3.06387363, -1.76594457, -9.16900124,  5.86742869, -0.6367832 ]])"
      ]
     },
     "execution_count": 826,
     "metadata": {},
     "output_type": "execute_result"
    }
   ],
   "source": [
    "hypothesis -y"
   ]
  },
  {
   "cell_type": "code",
   "execution_count": 549,
   "metadata": {},
   "outputs": [],
   "source": [
    "# new_X = new_X.T"
   ]
  },
  {
   "cell_type": "code",
   "execution_count": 550,
   "metadata": {},
   "outputs": [
    {
     "data": {
      "text/plain": [
       "((1, 4), (4, 25))"
      ]
     },
     "execution_count": 550,
     "metadata": {},
     "output_type": "execute_result"
    }
   ],
   "source": [
    "#theta.shape, new_X.shape"
   ]
  },
  {
   "cell_type": "code",
   "execution_count": 551,
   "metadata": {},
   "outputs": [
    {
     "data": {
      "text/plain": [
       "array([[74.32140325, 89.32893234, 88.01643441, 95.85733847, 68.12759851,\n",
       "        50.22904849, 71.75329894, 53.19450561, 83.48551918, 77.3297162 ,\n",
       "        69.13024472, 68.16481661, 90.93239218, 75.59044886, 72.08342059,\n",
       "        90.64844812, 71.98949811, 86.11111152, 86.69068441, 77.56748267,\n",
       "        84.14206639, 83.80317241, 80.22249159, 74.93196003, 92.57852069]])"
      ]
     },
     "execution_count": 551,
     "metadata": {},
     "output_type": "execute_result"
    }
   ],
   "source": [
    "hypothesis = np.dot(theta, new_X)\n",
    "hypothesis"
   ]
  },
  {
   "cell_type": "code",
   "execution_count": 552,
   "metadata": {},
   "outputs": [
    {
     "data": {
      "text/plain": [
       "((1, 25), (1, 25))"
      ]
     },
     "execution_count": 552,
     "metadata": {},
     "output_type": "execute_result"
    }
   ],
   "source": [
    "hypothesis.shape, y.shape"
   ]
  },
  {
   "cell_type": "code",
   "execution_count": 553,
   "metadata": {},
   "outputs": [],
   "source": [
    "y = y.reshape(1, 25)"
   ]
  },
  {
   "cell_type": "code",
   "execution_count": 554,
   "metadata": {},
   "outputs": [
    {
     "data": {
      "text/plain": [
       "((1, 25), (1, 25))"
      ]
     },
     "execution_count": 554,
     "metadata": {},
     "output_type": "execute_result"
    }
   ],
   "source": [
    "hypothesis.shape, y.shape"
   ]
  },
  {
   "cell_type": "code",
   "execution_count": 555,
   "metadata": {},
   "outputs": [
    {
     "data": {
      "text/plain": [
       "array([[ -77.67859675,  -95.67106766,  -91.98356559, -100.14266153,\n",
       "         -73.87240149,  -50.77095151,  -77.24670106,  -61.80549439,\n",
       "         -91.51448082,  -86.6702838 ,  -71.86975528,  -72.83518339,\n",
       "         -93.06760782,  -76.40955114,  -75.91657941, -101.35155188,\n",
       "         -75.01050189,  -96.88888848,  -90.30931559,  -81.43251733,\n",
       "         -92.85793361,  -91.19682759,  -94.77750841,  -74.06803997,\n",
       "         -99.42147931]])"
      ]
     },
     "execution_count": 555,
     "metadata": {},
     "output_type": "execute_result"
    }
   ],
   "source": [
    "updater = hypothesis - y\n",
    "updater"
   ]
  },
  {
   "cell_type": "code",
   "execution_count": 556,
   "metadata": {},
   "outputs": [],
   "source": [
    "learning_rate = 0.000000001\n",
    "updater = learning_rate * updater"
   ]
  },
  {
   "cell_type": "code",
   "execution_count": 557,
   "metadata": {},
   "outputs": [
    {
     "data": {
      "text/plain": [
       "array([[-2.09476945e-06, -1.69005623e-04, -1.69921796e-04,\n",
       "        -1.74215740e-04]])"
      ]
     },
     "execution_count": 557,
     "metadata": {},
     "output_type": "execute_result"
    }
   ],
   "source": [
    "dtheta = np.dot(updater, new_X.T)\n",
    "dtheta"
   ]
  },
  {
   "cell_type": "code",
   "execution_count": 558,
   "metadata": {},
   "outputs": [
    {
     "data": {
      "text/plain": [
       "((1, 4), (1, 4))"
      ]
     },
     "execution_count": 558,
     "metadata": {},
     "output_type": "execute_result"
    }
   ],
   "source": [
    "theta.shape, dtheta.shape"
   ]
  },
  {
   "cell_type": "code",
   "execution_count": 559,
   "metadata": {},
   "outputs": [],
   "source": [
    "theta = theta - dtheta"
   ]
  },
  {
   "cell_type": "code",
   "execution_count": 560,
   "metadata": {},
   "outputs": [
    {
     "data": {
      "text/plain": [
       "array([[0.00399435, 0.32230198, 0.32405736, 0.33205033]])"
      ]
     },
     "execution_count": 560,
     "metadata": {},
     "output_type": "execute_result"
    }
   ],
   "source": [
    "theta"
   ]
  },
  {
   "cell_type": "code",
   "execution_count": null,
   "metadata": {},
   "outputs": [],
   "source": []
  },
  {
   "cell_type": "code",
   "execution_count": 546,
   "metadata": {},
   "outputs": [
    {
     "data": {
      "text/plain": [
       "[-4.336102401240339, 0.35593822, 0.54251876, 1.16744422]"
      ]
     },
     "execution_count": 546,
     "metadata": {},
     "output_type": "execute_result"
    }
   ],
   "source": [
    "[-4.336102401240339, 0.35593822, 0.54251876, 1.16744422]"
   ]
  },
  {
   "cell_type": "code",
   "execution_count": 829,
   "metadata": {},
   "outputs": [],
   "source": [
    "p = theta[0]"
   ]
  },
  {
   "cell_type": "code",
   "execution_count": 830,
   "metadata": {},
   "outputs": [
    {
     "data": {
      "text/plain": [
       "array([0.00824849, 0.66491042, 0.66839401, 0.68821716])"
      ]
     },
     "execution_count": 830,
     "metadata": {},
     "output_type": "execute_result"
    }
   ],
   "source": [
    "p"
   ]
  },
  {
   "cell_type": "code",
   "execution_count": 831,
   "metadata": {},
   "outputs": [
    {
     "data": {
      "text/plain": [
       "153.6345164067426"
      ]
     },
     "execution_count": 831,
     "metadata": {},
     "output_type": "execute_result"
    }
   ],
   "source": [
    "p[0]*1 + p[1]*73 + p[2]*80 + p[3]*75"
   ]
  },
  {
   "cell_type": "code",
   "execution_count": null,
   "metadata": {},
   "outputs": [],
   "source": []
  },
  {
   "cell_type": "code",
   "execution_count": 49,
   "metadata": {},
   "outputs": [],
   "source": [
    "# X = df.iloc[:, [0, 1, 2]].values\n",
    "# y = df.iloc[:, 3].values\n",
    "\n",
    "# # STEP 1\n",
    "# np.random.seed(42)\n",
    "# w = np.random.randn(1, X.shape[1])\n",
    "# b = 0\n",
    "# X = X.T\n",
    "# for i in range(1, 3):\n",
    "#     print('------------------------------------------------------------------------------------------')\n",
    "#     print(i, end = '\\n\\n')\n",
    "    \n",
    "#     # STEP 2\n",
    "#     z = np.dot(w, X) + b\n",
    "\n",
    "#     # STEP 3\n",
    "#     J = np.sum((z-y)**2) / (2 * X.shape[0])\n",
    "\n",
    "#     # STEP 4\n",
    "#     dz = (z - y) / (2 * X.shape[0])\n",
    "#     dw = np.dot(dz, X.T)\n",
    "#     print('dw = ', dw)\n",
    "#     db = dz.sum()\n",
    "#     print('db = ', db)\n",
    "\n",
    "#     # STEP 5\n",
    "#     w = w - 0.0001 * dw\n",
    "#     b = b - 0.0001 * db\n",
    "#     print(w, b)\n",
    "#     print('------------------------------------------------------------------------------------------')\n",
    "    "
   ]
  },
  {
   "cell_type": "code",
   "execution_count": null,
   "metadata": {},
   "outputs": [],
   "source": []
  }
 ],
 "metadata": {
  "kernelspec": {
   "display_name": "Python 3",
   "language": "python",
   "name": "python3"
  },
  "language_info": {
   "codemirror_mode": {
    "name": "ipython",
    "version": 3
   },
   "file_extension": ".py",
   "mimetype": "text/x-python",
   "name": "python",
   "nbconvert_exporter": "python",
   "pygments_lexer": "ipython3",
   "version": "3.7.7"
  }
 },
 "nbformat": 4,
 "nbformat_minor": 4
}
