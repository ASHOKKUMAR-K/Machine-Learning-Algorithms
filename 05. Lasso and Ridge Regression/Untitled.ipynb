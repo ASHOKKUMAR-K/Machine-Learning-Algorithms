{
 "cells": [
  {
   "cell_type": "code",
   "execution_count": 1,
   "metadata": {},
   "outputs": [],
   "source": [
    "import pandas as pd\n",
    "import numpy as np\n",
    "import matplotlib.pyplot as plt"
   ]
  },
  {
   "cell_type": "code",
   "execution_count": 2,
   "metadata": {},
   "outputs": [],
   "source": [
    "class Ridge_Regression:\n",
    "    \n",
    "    def __init__(self, X, y, random_seed = 42):\n",
    "        \n",
    "        self.X = np.hstack((np.ones((X.shape[0], 1)), X))\n",
    "        self.y = y.reshape(-1, 1)\n",
    "        \n",
    "        self._m_records = self.X.shape[0]\n",
    "        self._n_features = self.X.shape[1]\n",
    "        \n",
    "        np.random.seed(random_seed)\n",
    "        self._weights = np.random.randn(1, self._n_features)\n",
    "        self._costs = []\n",
    "        \n",
    "        self._y_mean = np.mean(self.y, axis = 0)[0]\n",
    "        \n",
    "    def mean_absolute_error(self, y_true, y_pred):\n",
    "        return np.sum(np.abs(y_true - y_pred)) / len(y_true)\n",
    "    \n",
    "    def fit(self, learning_rate = 0.0000001, epochs = 60000):\n",
    "        for epoch in range(1 , epochs+1):\n",
    "            Hypothesis = np.dot(self._weights, self.X.T)\n",
    "            error = (Hypothesis - y)\n",
    "            if epoch % 1000 == 0:\n",
    "                cost = np.sum(error**2) / 2\n",
    "                self._costs.append(cost)\n",
    "                mae = self.mean_absolute_error(y, Hypothesis)\n",
    "                print('Epoch {}\\t: MAE_Error is {}\\t| Costs\\t:{}'.format(epoch, mae, cost))\n",
    "                \n",
    "            updater = learning_rate * error\n",
    "            self._weights = self._weights - np.dot(updater, self.X)\n",
    "#             print(self._weights.shape)\n",
    "        \n",
    "        self.intercept = self._weights[0][0]\n",
    "        self.coefficient = self._weights[0][1:]\n",
    "    \n",
    "        return self.intercept, self.coefficient\n",
    "    \n",
    "    def plot_cost_function(self):\n",
    "        x_axis = list(range(1, len(self._costs)+1))\n",
    "        y_axis = self._costs\n",
    "        \n",
    "        plt.figure(figsize = (7, 10))\n",
    "        plt.plot(x_axis, y_axis)\n",
    "        plt.title('Cost Function Plot')\n",
    "        plt.xlabel('Epochs in Thousands', fontsize = 20)\n",
    "        plt.ylabel('Costs', fontsize = 20)\n",
    "        plt.show()\n",
    "        \n",
    "    def r2_score(self):\n",
    "        '''\n",
    "        It’s a statistical measure between 0 and 1 which calculates \n",
    "        how similar a regression line is to the data it’s fitted to. \n",
    "        If it’s a 1, the model 100% predicts the data variance; \n",
    "        if it’s a 0, the model predicts none of the variance.\n",
    "        '''\n",
    "#         print(self._weights.shape, self.X.T.shape)\n",
    "        _y_pred = np.dot(self._weights, self.X.T)\n",
    "#         print(self.y.shape, _y_pred.shape)\n",
    "#         print(_y_pred)\n",
    "#         print(self.y - _y_pred.T)\n",
    "        line_1_sum = np.sum((self.y - _y_pred.T) ** 2)\n",
    "        line_2_sum = np.sum((self.y - self._y_mean) ** 2)\n",
    "#         print(line_1_sum, line_2_sum)\n",
    "        r2_score = (line_2_sum - line_1_sum) / line_2_sum\n",
    "        \n",
    "        print(\"R2 Score = {}\".format(r2_score))\n",
    "        return r2_score"
   ]
  },
  {
   "cell_type": "code",
   "execution_count": null,
   "metadata": {},
   "outputs": [],
   "source": []
  }
 ],
 "metadata": {
  "kernelspec": {
   "display_name": "Python 3",
   "language": "python",
   "name": "python3"
  },
  "language_info": {
   "codemirror_mode": {
    "name": "ipython",
    "version": 3
   },
   "file_extension": ".py",
   "mimetype": "text/x-python",
   "name": "python",
   "nbconvert_exporter": "python",
   "pygments_lexer": "ipython3",
   "version": "3.7.7"
  }
 },
 "nbformat": 4,
 "nbformat_minor": 4
}
